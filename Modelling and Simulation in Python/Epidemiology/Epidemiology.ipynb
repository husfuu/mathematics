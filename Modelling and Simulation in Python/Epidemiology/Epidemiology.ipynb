{
  "nbformat": 4,
  "nbformat_minor": 0,
  "metadata": {
    "colab": {
      "name": "Epidemiology.ipynb",
      "provenance": [],
      "toc_visible": true,
      "authorship_tag": "ABX9TyOIdeSGMyg/sn+dkJ9MDkUq",
      "include_colab_link": true
    },
    "kernelspec": {
      "name": "python3",
      "display_name": "Python 3"
    },
    "language_info": {
      "name": "python"
    }
  },
  "cells": [
    {
      "cell_type": "markdown",
      "metadata": {
        "id": "view-in-github",
        "colab_type": "text"
      },
      "source": [
        "<a href=\"https://colab.research.google.com/github/husfuu/Mathematical-Modelling/blob/main/Modelling%20and%20Simulation%20in%20Python/Epidemiology/Epidemiology.ipynb\" target=\"_parent\"><img src=\"https://colab.research.google.com/assets/colab-badge.svg\" alt=\"Open In Colab\"/></a>"
      ]
    },
    {
      "cell_type": "markdown",
      "metadata": {
        "id": "SfFoq6IKP03m"
      },
      "source": [
        "## The Kermack-MCKendrick Model\n",
        "\n",
        "* **S** : Orang yang \"rentan\", yaitu memungkinkan untuk tertular penyakit dari orang yang statusnya \"Infected\".\n",
        "* **I** : Orang yang terinfeksi, memungkinkan menularkan penyakitnya ke orang yang statusnya \"Suspectible\".\n",
        "* **R** : Orang yang \"sembuh\". Pada beberapa penyakit orang yang telah sembuh dianggap kebal terhadap infeksi."
      ]
    },
    {
      "cell_type": "markdown",
      "metadata": {
        "id": "U5492u0gTWBq"
      },
      "source": [
        "* $N$ : Jumlah orang dalam suatu populasi.\n",
        "* $\\gamma$ : recovery rate | tingkat kesembuhan per hari\n",
        "* $i$ : persentase orang yang terinfeksi || infection rate | tingkat penularan\n",
        "* $\\gamma i N$: Jumlah orang yang diharapkan sembuh perhari\n",
        "* $\\beta$ : contact rate || tingkat kontak per hari\n",
        "* $s$ : persentase orang yang rentan\n",
        "* $sN$: Jumlah orang yang rentan.\n",
        "* $\\beta s N$ : Jumlah kontak perhari.\n",
        "* $\\beta s i N$ : Jumlah kontak di mana orang lain menular. || Jumlah infeksi baru yang kita perkirakan per hari.\n",
        "* $ \\gamma i $: Jumlah orang yang sembuh per hari.\n",
        "* $\\beta s i $ : Jumlah orang yang terinfeksi per hari."
      ]
    },
    {
      "cell_type": "markdown",
      "metadata": {
        "id": "e5OUuGibZN0Z"
      },
      "source": [
        "![image.png](data:image/png;base64,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)"
      ]
    },
    {
      "cell_type": "markdown",
      "metadata": {
        "id": "E2gDzcG8ZccQ"
      },
      "source": [
        "# Implementing the Kermack-MCKendrick Model"
      ]
    },
    {
      "cell_type": "markdown",
      "metadata": {
        "id": "NbKdRORcZtLm"
      },
      "source": [
        "## Setup"
      ]
    },
    {
      "cell_type": "markdown",
      "metadata": {
        "id": "ZMZ18n3bZzsJ"
      },
      "source": [
        "Before implement the KM model, we have to prepare some libraries that will be useful for this implementation."
      ]
    },
    {
      "cell_type": "code",
      "metadata": {
        "colab": {
          "base_uri": "https://localhost:8080/"
        },
        "id": "ejxSKVLGOaJS",
        "outputId": "7fc2363b-f28c-4ff6-9742-e6924acd9091"
      },
      "source": [
        "# Install pint library\n",
        "try:\n",
        "    import pint\n",
        "except ImportError:\n",
        "    !pip install pint"
      ],
      "execution_count": null,
      "outputs": [
        {
          "output_type": "stream",
          "name": "stdout",
          "text": [
            "Collecting pint\n",
            "  Downloading Pint-0.17-py2.py3-none-any.whl (204 kB)\n",
            "\u001b[?25l\r\u001b[K     |█▋                              | 10 kB 24.4 MB/s eta 0:00:01\r\u001b[K     |███▏                            | 20 kB 31.1 MB/s eta 0:00:01\r\u001b[K     |████▉                           | 30 kB 36.0 MB/s eta 0:00:01\r\u001b[K     |██████▍                         | 40 kB 39.6 MB/s eta 0:00:01\r\u001b[K     |████████                        | 51 kB 29.2 MB/s eta 0:00:01\r\u001b[K     |█████████▋                      | 61 kB 23.8 MB/s eta 0:00:01\r\u001b[K     |███████████▏                    | 71 kB 23.8 MB/s eta 0:00:01\r\u001b[K     |████████████▉                   | 81 kB 25.4 MB/s eta 0:00:01\r\u001b[K     |██████████████▍                 | 92 kB 27.3 MB/s eta 0:00:01\r\u001b[K     |████████████████                | 102 kB 28.0 MB/s eta 0:00:01\r\u001b[K     |█████████████████▋              | 112 kB 28.0 MB/s eta 0:00:01\r\u001b[K     |███████████████████▏            | 122 kB 28.0 MB/s eta 0:00:01\r\u001b[K     |████████████████████▉           | 133 kB 28.0 MB/s eta 0:00:01\r\u001b[K     |██████████████████████▍         | 143 kB 28.0 MB/s eta 0:00:01\r\u001b[K     |████████████████████████        | 153 kB 28.0 MB/s eta 0:00:01\r\u001b[K     |█████████████████████████▋      | 163 kB 28.0 MB/s eta 0:00:01\r\u001b[K     |███████████████████████████▏    | 174 kB 28.0 MB/s eta 0:00:01\r\u001b[K     |████████████████████████████▊   | 184 kB 28.0 MB/s eta 0:00:01\r\u001b[K     |██████████████████████████████▍ | 194 kB 28.0 MB/s eta 0:00:01\r\u001b[K     |████████████████████████████████| 204 kB 28.0 MB/s eta 0:00:01\r\u001b[K     |████████████████████████████████| 204 kB 28.0 MB/s \n",
            "\u001b[?25hRequirement already satisfied: packaging in /usr/local/lib/python3.7/dist-packages (from pint) (21.0)\n",
            "Requirement already satisfied: importlib-metadata in /usr/local/lib/python3.7/dist-packages (from pint) (4.8.1)\n",
            "Requirement already satisfied: typing-extensions>=3.6.4 in /usr/local/lib/python3.7/dist-packages (from importlib-metadata->pint) (3.7.4.3)\n",
            "Requirement already satisfied: zipp>=0.5 in /usr/local/lib/python3.7/dist-packages (from importlib-metadata->pint) (3.6.0)\n",
            "Requirement already satisfied: pyparsing>=2.0.2 in /usr/local/lib/python3.7/dist-packages (from packaging->pint) (2.4.7)\n",
            "Installing collected packages: pint\n",
            "Successfully installed pint-0.17\n"
          ]
        }
      ]
    },
    {
      "cell_type": "code",
      "metadata": {
        "colab": {
          "base_uri": "https://localhost:8080/"
        },
        "id": "w8UpqUmRZy2C",
        "outputId": "588ffb4c-925b-49ac-8e5b-031406de6cae"
      },
      "source": [
        "# download modsim.py\n",
        "\n",
        "from os.path import basename, exists\n",
        "\n",
        "def download(url):\n",
        "    filename = basename(url)\n",
        "    if not exists(filename):\n",
        "        from urllib.request import urlretrieve\n",
        "        local, _ = urlretrieve(url, filename)\n",
        "        print('Downloaded ' + local)\n",
        "    \n",
        "download('https://raw.githubusercontent.com/AllenDowney/' +\n",
        "         'ModSimPy/master/modsim.py')"
      ],
      "execution_count": null,
      "outputs": [
        {
          "output_type": "stream",
          "name": "stdout",
          "text": [
            "Downloaded modsim.py\n"
          ]
        }
      ]
    },
    {
      "cell_type": "code",
      "metadata": {
        "id": "XWXyDvqvaR0J"
      },
      "source": [
        "# import all functions from modsim file\n",
        "\n",
        "from modsim import *"
      ],
      "execution_count": null,
      "outputs": []
    },
    {
      "cell_type": "markdown",
      "metadata": {
        "id": "Rfjblwu-aj1A"
      },
      "source": [
        "Inisialisasi `State` object dengan ketentuan berikut:\n",
        "* $s$ : 89\n",
        "* $i$ : 1\n",
        "* $r$ : 0\n",
        "\n",
        "Ketentuan di atas bisa disebut dengan *initial condition* (kondisi awal)"
      ]
    },
    {
      "cell_type": "code",
      "metadata": {
        "colab": {
          "base_uri": "https://localhost:8080/",
          "height": 142
        },
        "id": "KA_l3FlqaZSD",
        "outputId": "2ad36a93-e43d-49b2-fca8-484ef2da90ba"
      },
      "source": [
        "init = State(s=89, i=1, r=0)\n",
        "show(init)"
      ],
      "execution_count": null,
      "outputs": [
        {
          "output_type": "execute_result",
          "data": {
            "text/html": [
              "<div>\n",
              "<style scoped>\n",
              "    .dataframe tbody tr th:only-of-type {\n",
              "        vertical-align: middle;\n",
              "    }\n",
              "\n",
              "    .dataframe tbody tr th {\n",
              "        vertical-align: top;\n",
              "    }\n",
              "\n",
              "    .dataframe thead th {\n",
              "        text-align: right;\n",
              "    }\n",
              "</style>\n",
              "<table border=\"1\" class=\"dataframe\">\n",
              "  <thead>\n",
              "    <tr style=\"text-align: right;\">\n",
              "      <th></th>\n",
              "      <th>state</th>\n",
              "    </tr>\n",
              "  </thead>\n",
              "  <tbody>\n",
              "    <tr>\n",
              "      <th>s</th>\n",
              "      <td>89</td>\n",
              "    </tr>\n",
              "    <tr>\n",
              "      <th>i</th>\n",
              "      <td>1</td>\n",
              "    </tr>\n",
              "    <tr>\n",
              "      <th>r</th>\n",
              "      <td>0</td>\n",
              "    </tr>\n",
              "  </tbody>\n",
              "</table>\n",
              "</div>"
            ],
            "text/plain": [
              "   state\n",
              "s     89\n",
              "i      1\n",
              "r      0"
            ]
          },
          "metadata": {},
          "execution_count": 4
        }
      ]
    },
    {
      "cell_type": "markdown",
      "metadata": {
        "id": "Ia177SPBb-3I"
      },
      "source": [
        "Konversi setiap nilai variable di `init` ke dalam bentuk persentase."
      ]
    },
    {
      "cell_type": "code",
      "metadata": {
        "colab": {
          "base_uri": "https://localhost:8080/",
          "height": 142
        },
        "id": "9h5jiT6BbkuU",
        "outputId": "02e9c3cd-dd89-4e56-c3ef-2dbc9d9a9c0b"
      },
      "source": [
        "init = init / init.sum()\n",
        "show(init)"
      ],
      "execution_count": null,
      "outputs": [
        {
          "output_type": "execute_result",
          "data": {
            "text/html": [
              "<div>\n",
              "<style scoped>\n",
              "    .dataframe tbody tr th:only-of-type {\n",
              "        vertical-align: middle;\n",
              "    }\n",
              "\n",
              "    .dataframe tbody tr th {\n",
              "        vertical-align: top;\n",
              "    }\n",
              "\n",
              "    .dataframe thead th {\n",
              "        text-align: right;\n",
              "    }\n",
              "</style>\n",
              "<table border=\"1\" class=\"dataframe\">\n",
              "  <thead>\n",
              "    <tr style=\"text-align: right;\">\n",
              "      <th></th>\n",
              "      <th>state</th>\n",
              "    </tr>\n",
              "  </thead>\n",
              "  <tbody>\n",
              "    <tr>\n",
              "      <th>s</th>\n",
              "      <td>0.988889</td>\n",
              "    </tr>\n",
              "    <tr>\n",
              "      <th>i</th>\n",
              "      <td>0.011111</td>\n",
              "    </tr>\n",
              "    <tr>\n",
              "      <th>r</th>\n",
              "      <td>0.000000</td>\n",
              "    </tr>\n",
              "  </tbody>\n",
              "</table>\n",
              "</div>"
            ],
            "text/plain": [
              "      state\n",
              "s  0.988889\n",
              "i  0.011111\n",
              "r  0.000000"
            ]
          },
          "metadata": {},
          "execution_count": 5
        }
      ]
    },
    {
      "cell_type": "markdown",
      "metadata": {
        "id": "XE1rSRgfdQws"
      },
      "source": [
        "Asumsikan jarak waktu terjadinya kontak adalah 3 hari, yang artinya setiap 3 hari terjadi kontak antara *infected* dengan *suspectible* dan jarak waktu kesembuhan adalah 4 hari, yang artinya setiap 4 hari ada yang sembuh."
      ]
    },
    {
      "cell_type": "code",
      "metadata": {
        "id": "KaOCDOrvcN_1"
      },
      "source": [
        "tc = 3      # jarak terjadi kontak dalam satuan hari\n",
        "tr = 4      # jarak terjadi kesembuhan dalam satuan hari"
      ],
      "execution_count": null,
      "outputs": []
    },
    {
      "cell_type": "markdown",
      "metadata": {
        "id": "a7SvOgOfewrv"
      },
      "source": [
        "Sehingga tingkat kontak dan kesembuhan per harinya adalah:"
      ]
    },
    {
      "cell_type": "code",
      "metadata": {
        "colab": {
          "base_uri": "https://localhost:8080/"
        },
        "id": "uh6IGeJzeuqn",
        "outputId": "c0a361c2-070b-4393-9730-0c53603d3512"
      },
      "source": [
        "beta = 1 / tc     # tingkat kontak per hari\n",
        "gamma = 1 / tr    # tingkat kesembuhan per hari\n",
        "\n",
        "print(\"beta : \", beta)\n",
        "print(\"gamma : \", gamma)"
      ],
      "execution_count": null,
      "outputs": [
        {
          "output_type": "stream",
          "name": "stdout",
          "text": [
            "beta :  0.3333333333333333\n",
            "gamma :  0.25\n"
          ]
        }
      ]
    },
    {
      "cell_type": "markdown",
      "metadata": {
        "id": "CmkXQTCrfo8w"
      },
      "source": [
        "`System` object digunakan untuk menyimpan parameter-parameter dan *initial condition*."
      ]
    },
    {
      "cell_type": "code",
      "metadata": {
        "id": "r5SW87FtfBBD"
      },
      "source": [
        "def make_system(beta, gamma):\n",
        "  init = State(s=89, i=1, r=0)\n",
        "  init = init / init.sum()\n",
        "\n",
        "  return System(init=init, t_end=7*14, beta=beta, gamma=gamma)"
      ],
      "execution_count": null,
      "outputs": []
    },
    {
      "cell_type": "markdown",
      "metadata": {
        "id": "7MCSk0XQhqtj"
      },
      "source": [
        "nilai defaul `t_end` adalah 14 minggu atau 1 semester, karena pada kasus ini menggunakan satuan hari, maka `t_end = 14*7`."
      ]
    },
    {
      "cell_type": "code",
      "metadata": {
        "colab": {
          "base_uri": "https://localhost:8080/",
          "height": 173
        },
        "id": "fOBdHVAohJa8",
        "outputId": "e46380dc-b474-43a0-807d-e89a514625eb"
      },
      "source": [
        "system = make_system(beta, gamma)\n",
        "show(system)"
      ],
      "execution_count": null,
      "outputs": [
        {
          "output_type": "execute_result",
          "data": {
            "text/html": [
              "<div>\n",
              "<style scoped>\n",
              "    .dataframe tbody tr th:only-of-type {\n",
              "        vertical-align: middle;\n",
              "    }\n",
              "\n",
              "    .dataframe tbody tr th {\n",
              "        vertical-align: top;\n",
              "    }\n",
              "\n",
              "    .dataframe thead th {\n",
              "        text-align: right;\n",
              "    }\n",
              "</style>\n",
              "<table border=\"1\" class=\"dataframe\">\n",
              "  <thead>\n",
              "    <tr style=\"text-align: right;\">\n",
              "      <th></th>\n",
              "      <th>value</th>\n",
              "    </tr>\n",
              "  </thead>\n",
              "  <tbody>\n",
              "    <tr>\n",
              "      <th>init</th>\n",
              "      <td>s    0.988889\n",
              "i    0.011111\n",
              "r    0.000000\n",
              "Name...</td>\n",
              "    </tr>\n",
              "    <tr>\n",
              "      <th>t_end</th>\n",
              "      <td>98</td>\n",
              "    </tr>\n",
              "    <tr>\n",
              "      <th>beta</th>\n",
              "      <td>0.333333</td>\n",
              "    </tr>\n",
              "    <tr>\n",
              "      <th>gamma</th>\n",
              "      <td>0.25</td>\n",
              "    </tr>\n",
              "  </tbody>\n",
              "</table>\n",
              "</div>"
            ],
            "text/plain": [
              "                                                   value\n",
              "init   s    0.988889\n",
              "i    0.011111\n",
              "r    0.000000\n",
              "Name...\n",
              "t_end                                                 98\n",
              "beta                                            0.333333\n",
              "gamma                                               0.25"
            ]
          },
          "metadata": {},
          "execution_count": 9
        }
      ]
    },
    {
      "cell_type": "markdown",
      "metadata": {
        "id": "FgYmnZWdiSIY"
      },
      "source": [
        "## Update Function"
      ]
    },
    {
      "cell_type": "markdown",
      "metadata": {
        "id": "xobbq_gyzrKx"
      },
      "source": [
        "Mengambil keadaan sistem saat ini dan menghitung keadaan selama langkah waktu berikutnya. <br> <br>\n",
        "**Parameter**\n",
        "* `t` : waktu awal biasanya sama dengan 0\n",
        "* `state` : kondisi awal\n",
        "* `system` :  \n"
      ]
    },
    {
      "cell_type": "code",
      "metadata": {
        "id": "2IlAeTWhiJ5q"
      },
      "source": [
        "def update_func(t, state, system):\n",
        "  s, i, r = state.s, state.i, state.r\n",
        "\n",
        "  infected = system.beta * i * s\n",
        "  recovered = system.gamma * i\n",
        "\n",
        "  s = s - infected\n",
        "  i = i + infected - recovered\n",
        "  r = r + recovered\n",
        "\n",
        "  return State(s=s, i=i, r=r)\n"
      ],
      "execution_count": null,
      "outputs": []
    },
    {
      "cell_type": "markdown",
      "metadata": {
        "id": "z52JHoq4178o"
      },
      "source": [
        "##### Explanation"
      ]
    },
    {
      "cell_type": "markdown",
      "metadata": {
        "id": "9whOU4Dn2Ai2"
      },
      "source": [
        "* `infected` : jumlah orang yang terinfeksi\n",
        "* `recovered` : jumlah orang yang sembuh \n",
        "* `s` : jumlah orang yang rentan saat ini\n",
        "* `i` : jumlah orang yang terinfeksi saat ini\n",
        "* `r` : jumlah orang yang sembuh saat ini\n",
        "\n",
        "parameter `t` tidak akan berpengaruh pada `update_function`, karena kegunaan dari `t` hanyalah untuk menginformasikan ke kita bahwa **waktu** awal nya berapa. <br>\n",
        "Misal kita ingin membuat model berdasarkan data dari tahun 2010 sampai 2015 dan jika disepakati satuan untuk `t` adalah tahun, maka `t = 2010` dan `t_end = 2015` atau bisa disingkat menjadi `t = 0` dan `t_end = 5`.  <br>\n",
        "**Note**\n",
        "Parameter `t` akan berguna untuk function selanjutnya."
      ]
    },
    {
      "cell_type": "markdown",
      "metadata": {
        "id": "M2amsjI_6qjv"
      },
      "source": [
        "Kondisi (`state`) untuk 100 hari ke depan atau bisa diartikan persentase dari `s`, `i` dan `r` untuk 100 hari ke depan."
      ]
    },
    {
      "cell_type": "code",
      "metadata": {
        "colab": {
          "base_uri": "https://localhost:8080/",
          "height": 142
        },
        "id": "1eBd4L126eKS",
        "outputId": "f3ba72df-d59b-4d5c-a99e-65d7eb0330da"
      },
      "source": [
        "state = update_func(0, init, system)\n",
        "\n",
        "for t in range(0, 100):\n",
        "    state = update_func(t, state, system)\n",
        "\n",
        "show(state)"
      ],
      "execution_count": null,
      "outputs": [
        {
          "output_type": "execute_result",
          "data": {
            "text/html": [
              "<div>\n",
              "<style scoped>\n",
              "    .dataframe tbody tr th:only-of-type {\n",
              "        vertical-align: middle;\n",
              "    }\n",
              "\n",
              "    .dataframe tbody tr th {\n",
              "        vertical-align: top;\n",
              "    }\n",
              "\n",
              "    .dataframe thead th {\n",
              "        text-align: right;\n",
              "    }\n",
              "</style>\n",
              "<table border=\"1\" class=\"dataframe\">\n",
              "  <thead>\n",
              "    <tr style=\"text-align: right;\">\n",
              "      <th></th>\n",
              "      <th>state</th>\n",
              "    </tr>\n",
              "  </thead>\n",
              "  <tbody>\n",
              "    <tr>\n",
              "      <th>s</th>\n",
              "      <td>0.520247</td>\n",
              "    </tr>\n",
              "    <tr>\n",
              "      <th>i</th>\n",
              "      <td>0.000524</td>\n",
              "    </tr>\n",
              "    <tr>\n",
              "      <th>r</th>\n",
              "      <td>0.479228</td>\n",
              "    </tr>\n",
              "  </tbody>\n",
              "</table>\n",
              "</div>"
            ],
            "text/plain": [
              "      state\n",
              "s  0.520247\n",
              "i  0.000524\n",
              "r  0.479228"
            ]
          },
          "metadata": {},
          "execution_count": 13
        }
      ]
    },
    {
      "cell_type": "markdown",
      "metadata": {
        "id": "L2QZ1HU47yTg"
      },
      "source": [
        "## Running the Simulation"
      ]
    },
    {
      "cell_type": "code",
      "metadata": {
        "id": "2BOlZL5U1-ZO"
      },
      "source": [
        "def run_simulation1(system, update_func):\n",
        "  state = system.init\n",
        "\n",
        "  for t in range(0, system.t_end):\n",
        "    state = update_func(t, state, system)\n",
        "  \n",
        "  return state"
      ],
      "execution_count": null,
      "outputs": []
    },
    {
      "cell_type": "code",
      "metadata": {
        "colab": {
          "base_uri": "https://localhost:8080/",
          "height": 142
        },
        "id": "iZWKFkkb8Vzm",
        "outputId": "1749ce0a-208d-4ee9-89d5-285839674e36"
      },
      "source": [
        "final_state = run_simulation1(system, update_func)\n",
        "show(final_state)"
      ],
      "execution_count": null,
      "outputs": [
        {
          "output_type": "execute_result",
          "data": {
            "text/html": [
              "<div>\n",
              "<style scoped>\n",
              "    .dataframe tbody tr th:only-of-type {\n",
              "        vertical-align: middle;\n",
              "    }\n",
              "\n",
              "    .dataframe tbody tr th {\n",
              "        vertical-align: top;\n",
              "    }\n",
              "\n",
              "    .dataframe thead th {\n",
              "        text-align: right;\n",
              "    }\n",
              "</style>\n",
              "<table border=\"1\" class=\"dataframe\">\n",
              "  <thead>\n",
              "    <tr style=\"text-align: right;\">\n",
              "      <th></th>\n",
              "      <th>state</th>\n",
              "    </tr>\n",
              "  </thead>\n",
              "  <tbody>\n",
              "    <tr>\n",
              "      <th>s</th>\n",
              "      <td>0.520568</td>\n",
              "    </tr>\n",
              "    <tr>\n",
              "      <th>i</th>\n",
              "      <td>0.000666</td>\n",
              "    </tr>\n",
              "    <tr>\n",
              "      <th>r</th>\n",
              "      <td>0.478766</td>\n",
              "    </tr>\n",
              "  </tbody>\n",
              "</table>\n",
              "</div>"
            ],
            "text/plain": [
              "      state\n",
              "s  0.520568\n",
              "i  0.000666\n",
              "r  0.478766"
            ]
          },
          "metadata": {},
          "execution_count": 15
        }
      ]
    },
    {
      "cell_type": "markdown",
      "metadata": {
        "id": "oJoIpQjX9OK9"
      },
      "source": [
        "**Kesimpulan**: <br>\n",
        "Setelah 14 minggu (98 hari), ada 52% dari populasi yang berstatus rentan (mereka tidak pernah terinfeksi), hampir 48% sembuh (mereka pernah terinfeksi), dan kurang dari 1% masih terinfeksi."
      ]
    },
    {
      "cell_type": "markdown",
      "metadata": {
        "id": "1JPNchs69_6D"
      },
      "source": [
        "## Collecting the Results"
      ]
    },
    {
      "cell_type": "markdown",
      "metadata": {
        "id": "bEOlTn8_-Rrv"
      },
      "source": [
        "Selanjutnya kita ingin mengetahui bagaimana perubahan dari `state` di setiap waktu. Untuk mencapai tujuan tersebut kita akan menggunakan object `TimeSeries` dan object `TimeFrame`. <br><br>\n",
        "**Note**: <br>\n",
        "Untuk mengetahui jelas mengenai object TimeSeries dan TimeFrame buka file `modsim.py`.\n",
        "\n"
      ]
    },
    {
      "cell_type": "markdown",
      "metadata": {
        "id": "KUPKn3iWGgBC"
      },
      "source": [
        "#### `TimeSeries` Object"
      ]
    },
    {
      "cell_type": "code",
      "metadata": {
        "id": "ReX7OVWS-Dks"
      },
      "source": [
        "def run_simulation2(system, update_func):\n",
        "  S = TimeSeries()\n",
        "  I = TimeSeries()\n",
        "  R = TimeSeries()\n",
        "\n",
        "  state = system.init\n",
        "  S[0], I[0], R[0] = state\n",
        "  \n",
        "  for t in range(0, system.t_end):\n",
        "    state = update_func(t, state, system)\n",
        "    S[t+1], I[t+1], R[t+1] = state.s, state.i, state.r\n",
        "\n",
        "  return S, I, R"
      ],
      "execution_count": null,
      "outputs": []
    },
    {
      "cell_type": "code",
      "metadata": {
        "colab": {
          "base_uri": "https://localhost:8080/"
        },
        "id": "M6IeXy2w_-fV",
        "outputId": "e0672b7e-7aad-46eb-8fbe-cc7711d9cae4"
      },
      "source": [
        "S, I, R = run_simulation2(system, update_func)\n",
        "\n",
        "print(\"========== Suspectible ========\")\n",
        "print(pd.DataFrame(S.head()))\n",
        "print(\"========== Infected ========\")\n",
        "print(pd.DataFrame(I.head()))\n",
        "print(\"========== Recovered ========\")\n",
        "print(pd.DataFrame(R.head()))"
      ],
      "execution_count": null,
      "outputs": [
        {
          "output_type": "stream",
          "name": "stdout",
          "text": [
            "========== Suspectible ========\n",
            "      Quantity\n",
            "Time          \n",
            "0     0.988889\n",
            "1     0.985226\n",
            "2     0.981287\n",
            "3     0.977055\n",
            "4     0.972517\n",
            "========== Infected ========\n",
            "      Quantity\n",
            "Time          \n",
            "0     0.011111\n",
            "1     0.011996\n",
            "2     0.012936\n",
            "3     0.013934\n",
            "4     0.014988\n",
            "========== Recovered ========\n",
            "      Quantity\n",
            "Time          \n",
            "0     0.000000\n",
            "1     0.002778\n",
            "2     0.005777\n",
            "3     0.009011\n",
            "4     0.012494\n"
          ]
        }
      ]
    },
    {
      "cell_type": "code",
      "metadata": {
        "id": "0QE2IVLuCddq"
      },
      "source": [
        "data = pd.concat([S, I, R], axis=1)\n",
        "\n",
        "# rename the columns name\n",
        "data.columns = ['S', 'I', 'R']"
      ],
      "execution_count": null,
      "outputs": []
    },
    {
      "cell_type": "code",
      "metadata": {
        "colab": {
          "base_uri": "https://localhost:8080/",
          "height": 235
        },
        "id": "kUwq-FUYEFZS",
        "outputId": "91dd620e-2723-4049-a214-4a7963ba2af8"
      },
      "source": [
        "data.head()"
      ],
      "execution_count": null,
      "outputs": [
        {
          "output_type": "execute_result",
          "data": {
            "text/html": [
              "<div>\n",
              "<style scoped>\n",
              "    .dataframe tbody tr th:only-of-type {\n",
              "        vertical-align: middle;\n",
              "    }\n",
              "\n",
              "    .dataframe tbody tr th {\n",
              "        vertical-align: top;\n",
              "    }\n",
              "\n",
              "    .dataframe thead th {\n",
              "        text-align: right;\n",
              "    }\n",
              "</style>\n",
              "<table border=\"1\" class=\"dataframe\">\n",
              "  <thead>\n",
              "    <tr style=\"text-align: right;\">\n",
              "      <th></th>\n",
              "      <th>S</th>\n",
              "      <th>I</th>\n",
              "      <th>R</th>\n",
              "    </tr>\n",
              "    <tr>\n",
              "      <th>Time</th>\n",
              "      <th></th>\n",
              "      <th></th>\n",
              "      <th></th>\n",
              "    </tr>\n",
              "  </thead>\n",
              "  <tbody>\n",
              "    <tr>\n",
              "      <th>0</th>\n",
              "      <td>0.988889</td>\n",
              "      <td>0.011111</td>\n",
              "      <td>0.000000</td>\n",
              "    </tr>\n",
              "    <tr>\n",
              "      <th>1</th>\n",
              "      <td>0.985226</td>\n",
              "      <td>0.011996</td>\n",
              "      <td>0.002778</td>\n",
              "    </tr>\n",
              "    <tr>\n",
              "      <th>2</th>\n",
              "      <td>0.981287</td>\n",
              "      <td>0.012936</td>\n",
              "      <td>0.005777</td>\n",
              "    </tr>\n",
              "    <tr>\n",
              "      <th>3</th>\n",
              "      <td>0.977055</td>\n",
              "      <td>0.013934</td>\n",
              "      <td>0.009011</td>\n",
              "    </tr>\n",
              "    <tr>\n",
              "      <th>4</th>\n",
              "      <td>0.972517</td>\n",
              "      <td>0.014988</td>\n",
              "      <td>0.012494</td>\n",
              "    </tr>\n",
              "  </tbody>\n",
              "</table>\n",
              "</div>"
            ],
            "text/plain": [
              "             S         I         R\n",
              "Time                              \n",
              "0     0.988889  0.011111  0.000000\n",
              "1     0.985226  0.011996  0.002778\n",
              "2     0.981287  0.012936  0.005777\n",
              "3     0.977055  0.013934  0.009011\n",
              "4     0.972517  0.014988  0.012494"
            ]
          },
          "metadata": {},
          "execution_count": 36
        }
      ]
    },
    {
      "cell_type": "code",
      "metadata": {
        "colab": {
          "base_uri": "https://localhost:8080/",
          "height": 129
        },
        "id": "840A75L3ACSZ",
        "outputId": "8d8b42e4-dbf0-48ce-c59c-bc2ebc5824ca"
      },
      "source": [
        "import seaborn as sns\n",
        "\n",
        "sns.set_style(\"darkgrid\")\n",
        "sns.lineplot(data = data)"
      ],
      "execution_count": null,
      "outputs": [
        {
          "output_type": "error",
          "ename": "SyntaxError",
          "evalue": "ignored",
          "traceback": [
            "\u001b[0;36m  File \u001b[0;32m\"<ipython-input-1-c650025ad4d3>\"\u001b[0;36m, line \u001b[0;32m5\u001b[0m\n\u001b[0;31m    sns.set_style(\"darkgrid\")\u001b[0m\n\u001b[0m      ^\u001b[0m\n\u001b[0;31mSyntaxError\u001b[0m\u001b[0;31m:\u001b[0m invalid syntax\n"
          ]
        }
      ]
    },
    {
      "cell_type": "markdown",
      "metadata": {
        "id": "hgDCcG0DGmiF"
      },
      "source": [
        "### `TimeFrame` Object"
      ]
    },
    {
      "cell_type": "code",
      "metadata": {
        "id": "Rr6CVKT7BiYy"
      },
      "source": [
        "def run_simulation(system, update_func):\n",
        "  frame = TimeFrame(columns=system.init.index)\n",
        "  frame.loc[0] = system.init\n",
        "\n",
        "  for t in range(0, system.t_end):\n",
        "    frame.loc[t+1] = update_func(t, frame.loc[t], system)\n",
        "  \n",
        "  return frame"
      ],
      "execution_count": null,
      "outputs": []
    },
    {
      "cell_type": "code",
      "metadata": {
        "colab": {
          "base_uri": "https://localhost:8080/",
          "height": 204
        },
        "id": "_Ojq_towHiIV",
        "outputId": "0ca01278-73dd-44a8-e5af-c99d576d64b2"
      },
      "source": [
        "results = run_simulation(system, update_func)\n",
        "results.head()"
      ],
      "execution_count": null,
      "outputs": [
        {
          "output_type": "execute_result",
          "data": {
            "text/html": [
              "<div>\n",
              "<style scoped>\n",
              "    .dataframe tbody tr th:only-of-type {\n",
              "        vertical-align: middle;\n",
              "    }\n",
              "\n",
              "    .dataframe tbody tr th {\n",
              "        vertical-align: top;\n",
              "    }\n",
              "\n",
              "    .dataframe thead th {\n",
              "        text-align: right;\n",
              "    }\n",
              "</style>\n",
              "<table border=\"1\" class=\"dataframe\">\n",
              "  <thead>\n",
              "    <tr style=\"text-align: right;\">\n",
              "      <th></th>\n",
              "      <th>s</th>\n",
              "      <th>i</th>\n",
              "      <th>r</th>\n",
              "    </tr>\n",
              "  </thead>\n",
              "  <tbody>\n",
              "    <tr>\n",
              "      <th>0</th>\n",
              "      <td>0.988889</td>\n",
              "      <td>0.011111</td>\n",
              "      <td>0.000000</td>\n",
              "    </tr>\n",
              "    <tr>\n",
              "      <th>1</th>\n",
              "      <td>0.985226</td>\n",
              "      <td>0.011996</td>\n",
              "      <td>0.002778</td>\n",
              "    </tr>\n",
              "    <tr>\n",
              "      <th>2</th>\n",
              "      <td>0.981287</td>\n",
              "      <td>0.012936</td>\n",
              "      <td>0.005777</td>\n",
              "    </tr>\n",
              "    <tr>\n",
              "      <th>3</th>\n",
              "      <td>0.977055</td>\n",
              "      <td>0.013934</td>\n",
              "      <td>0.009011</td>\n",
              "    </tr>\n",
              "    <tr>\n",
              "      <th>4</th>\n",
              "      <td>0.972517</td>\n",
              "      <td>0.014988</td>\n",
              "      <td>0.012494</td>\n",
              "    </tr>\n",
              "  </tbody>\n",
              "</table>\n",
              "</div>"
            ],
            "text/plain": [
              "          s         i         r\n",
              "0  0.988889  0.011111  0.000000\n",
              "1  0.985226  0.011996  0.002778\n",
              "2  0.981287  0.012936  0.005777\n",
              "3  0.977055  0.013934  0.009011\n",
              "4  0.972517  0.014988  0.012494"
            ]
          },
          "metadata": {},
          "execution_count": 47
        }
      ]
    },
    {
      "cell_type": "code",
      "metadata": {
        "colab": {
          "base_uri": "https://localhost:8080/",
          "height": 282
        },
        "id": "HavcwlA5Hu5w",
        "outputId": "be505394-7c34-4a6f-cf92-357ef2430f9c"
      },
      "source": [
        "sns.set_style(\"darkgrid\")\n",
        "sns.lineplot(data = results)"
      ],
      "execution_count": null,
      "outputs": [
        {
          "output_type": "execute_result",
          "data": {
            "text/plain": [
              "<matplotlib.axes._subplots.AxesSubplot at 0x7f0a78cfbd50>"
            ]
          },
          "metadata": {},
          "execution_count": 48
        },
        {
          "output_type": "display_data",
          "data": {
            "image/png": "[encoded data removed]",
            "text/plain": [
              "<Figure size 432x288 with 1 Axes>"
            ]
          },
          "metadata": {}
        }
      ]
    },
    {
      "cell_type": "code",
      "metadata": {
        "id": "gQVOU4MSH5hp"
      },
      "source": [
        ""
      ],
      "execution_count": null,
      "outputs": []
    }
  ]
}