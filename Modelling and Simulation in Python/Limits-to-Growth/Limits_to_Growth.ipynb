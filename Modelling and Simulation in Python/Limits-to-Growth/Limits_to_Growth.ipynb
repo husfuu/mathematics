{
  "nbformat": 4,
  "nbformat_minor": 0,
  "metadata": {
    "colab": {
      "name": "Limits to Growth.ipynb",
      "provenance": [],
      "collapsed_sections": [
        "nTQ5pkYp8cML",
        "rD0u8a9U8kEX",
        "LMY79vN1Sq9x"
      ],
      "toc_visible": true,
      "authorship_tag": "ABX9TyPMLMdl7ypspClWxO0dvMKU",
      "include_colab_link": true
    },
    "kernelspec": {
      "name": "python3",
      "display_name": "Python 3"
    },
    "language_info": {
      "name": "python"
    }
  },
  "cells": [
    {
      "cell_type": "markdown",
      "metadata": {
        "id": "view-in-github",
        "colab_type": "text"
      },
      "source": [
        "<a href=\"https://colab.research.google.com/github/husfuu/Mathematical-Modelling/blob/main/Modelling%20and%20Simulation%20in%20Python/Limits-to-Growth/Limits_to_Growth.ipynb\" target=\"_parent\"><img src=\"https://colab.research.google.com/assets/colab-badge.svg\" alt=\"Open In Colab\"/></a>"
      ]
    },
    {
      "cell_type": "markdown",
      "metadata": {
        "id": "-CocUhdq7X4v"
      },
      "source": [
        "#Quadratic Growth"
      ]
    },
    {
      "cell_type": "markdown",
      "metadata": {
        "id": "d5mFZq0D8fK6"
      },
      "source": [
        "## Introduction"
      ]
    },
    {
      "cell_type": "markdown",
      "metadata": {
        "id": "nTQ5pkYp8cML"
      },
      "source": [
        "## Setup Libraries and Load the Data"
      ]
    },
    {
      "cell_type": "code",
      "metadata": {
        "colab": {
          "base_uri": "https://localhost:8080/"
        },
        "id": "hM6yFbsU_tAa",
        "outputId": "df6cb572-004d-4e15-c5d1-e57fccd6f4b6"
      },
      "source": [
        "# install Pint if necessary\n",
        "try:\n",
        "    import pint\n",
        "except ImportError:\n",
        "    !pip install pint"
      ],
      "execution_count": 2,
      "outputs": [
        {
          "output_type": "stream",
          "name": "stdout",
          "text": [
            "Collecting pint\n",
            "  Downloading Pint-0.17-py2.py3-none-any.whl (204 kB)\n",
            "\u001b[?25l\r\u001b[K     |█▋                              | 10 kB 24.1 MB/s eta 0:00:01\r\u001b[K     |███▏                            | 20 kB 31.0 MB/s eta 0:00:01\r\u001b[K     |████▉                           | 30 kB 16.7 MB/s eta 0:00:01\r\u001b[K     |██████▍                         | 40 kB 12.1 MB/s eta 0:00:01\r\u001b[K     |████████                        | 51 kB 5.4 MB/s eta 0:00:01\r\u001b[K     |█████████▋                      | 61 kB 5.8 MB/s eta 0:00:01\r\u001b[K     |███████████▏                    | 71 kB 5.2 MB/s eta 0:00:01\r\u001b[K     |████████████▉                   | 81 kB 5.8 MB/s eta 0:00:01\r\u001b[K     |██████████████▍                 | 92 kB 5.7 MB/s eta 0:00:01\r\u001b[K     |████████████████                | 102 kB 5.1 MB/s eta 0:00:01\r\u001b[K     |█████████████████▋              | 112 kB 5.1 MB/s eta 0:00:01\r\u001b[K     |███████████████████▏            | 122 kB 5.1 MB/s eta 0:00:01\r\u001b[K     |████████████████████▉           | 133 kB 5.1 MB/s eta 0:00:01\r\u001b[K     |██████████████████████▍         | 143 kB 5.1 MB/s eta 0:00:01\r\u001b[K     |████████████████████████        | 153 kB 5.1 MB/s eta 0:00:01\r\u001b[K     |█████████████████████████▋      | 163 kB 5.1 MB/s eta 0:00:01\r\u001b[K     |███████████████████████████▏    | 174 kB 5.1 MB/s eta 0:00:01\r\u001b[K     |████████████████████████████▊   | 184 kB 5.1 MB/s eta 0:00:01\r\u001b[K     |██████████████████████████████▍ | 194 kB 5.1 MB/s eta 0:00:01\r\u001b[K     |████████████████████████████████| 204 kB 5.1 MB/s eta 0:00:01\r\u001b[K     |████████████████████████████████| 204 kB 5.1 MB/s \n",
            "\u001b[?25hRequirement already satisfied: importlib-metadata in /usr/local/lib/python3.7/dist-packages (from pint) (4.8.1)\n",
            "Requirement already satisfied: packaging in /usr/local/lib/python3.7/dist-packages (from pint) (21.0)\n",
            "Requirement already satisfied: typing-extensions>=3.6.4 in /usr/local/lib/python3.7/dist-packages (from importlib-metadata->pint) (3.7.4.3)\n",
            "Requirement already satisfied: zipp>=0.5 in /usr/local/lib/python3.7/dist-packages (from importlib-metadata->pint) (3.6.0)\n",
            "Requirement already satisfied: pyparsing>=2.0.2 in /usr/local/lib/python3.7/dist-packages (from packaging->pint) (2.4.7)\n",
            "Installing collected packages: pint\n",
            "Successfully installed pint-0.17\n"
          ]
        }
      ]
    },
    {
      "cell_type": "code",
      "metadata": {
        "colab": {
          "base_uri": "https://localhost:8080/"
        },
        "id": "4rSbcW1D8q0b",
        "outputId": "7c708a9d-62df-4a91-afc2-e3de118a5401"
      },
      "source": [
        "# download modsim.py if necessary\n",
        "\n",
        "from os.path import basename, exists\n",
        "\n",
        "def download(url):\n",
        "    filename = basename(url)\n",
        "    if not exists(filename):\n",
        "        from urllib.request import urlretrieve\n",
        "        local, _ = urlretrieve(url, filename)\n",
        "        print('Downloaded ' + local)\n",
        "    \n",
        "download('https://github.com/AllenDowney/ModSimPy/raw/master/' +\n",
        "         'modsim.py')"
      ],
      "execution_count": 3,
      "outputs": [
        {
          "output_type": "stream",
          "name": "stdout",
          "text": [
            "Downloaded modsim.py\n"
          ]
        }
      ]
    },
    {
      "cell_type": "code",
      "metadata": {
        "id": "bUb4DAet8uHd"
      },
      "source": [
        "# import functions from modsim\n",
        "\n",
        "from modsim import *"
      ],
      "execution_count": 4,
      "outputs": []
    },
    {
      "cell_type": "code",
      "metadata": {
        "colab": {
          "base_uri": "https://localhost:8080/"
        },
        "id": "jzuzhhwn_-gK",
        "outputId": "81e65a48-a229-4ef0-d9cf-d09804a714f8"
      },
      "source": [
        "download('https://raw.githubusercontent.com/AllenDowney/' +\n",
        "         'ModSimPy/master/data/World_population_estimates.html')"
      ],
      "execution_count": 5,
      "outputs": [
        {
          "output_type": "stream",
          "name": "stdout",
          "text": [
            "Downloaded World_population_estimates.html\n"
          ]
        }
      ]
    },
    {
      "cell_type": "code",
      "metadata": {
        "colab": {
          "base_uri": "https://localhost:8080/",
          "height": 255
        },
        "id": "wP5zup8g-Phn",
        "outputId": "ca4074df-4ff2-437c-dcff-edf4dbd9a634"
      },
      "source": [
        "import pandas as pd\n",
        "\n",
        "from pandas import read_html\n",
        "\n",
        "filename = 'World_population_estimates.html'\n",
        "data = read_html(filename,\n",
        "                   header=0, \n",
        "                   index_col=0,\n",
        "                   decimal='M')\n",
        "\n",
        "data = data[2]\n",
        "\n",
        "# change data's columns name\n",
        "data.columns = ['census', 'prb', 'un', 'maddison', 'hyde', 'tanton', 'biraben', 'mj', 'thomlinson', 'durand', 'clark']\n",
        "\n",
        "data.head()"
      ],
      "execution_count": 6,
      "outputs": [
        {
          "output_type": "execute_result",
          "data": {
            "text/html": [
              "<div>\n",
              "<style scoped>\n",
              "    .dataframe tbody tr th:only-of-type {\n",
              "        vertical-align: middle;\n",
              "    }\n",
              "\n",
              "    .dataframe tbody tr th {\n",
              "        vertical-align: top;\n",
              "    }\n",
              "\n",
              "    .dataframe thead th {\n",
              "        text-align: right;\n",
              "    }\n",
              "</style>\n",
              "<table border=\"1\" class=\"dataframe\">\n",
              "  <thead>\n",
              "    <tr style=\"text-align: right;\">\n",
              "      <th></th>\n",
              "      <th>census</th>\n",
              "      <th>prb</th>\n",
              "      <th>un</th>\n",
              "      <th>maddison</th>\n",
              "      <th>hyde</th>\n",
              "      <th>tanton</th>\n",
              "      <th>biraben</th>\n",
              "      <th>mj</th>\n",
              "      <th>thomlinson</th>\n",
              "      <th>durand</th>\n",
              "      <th>clark</th>\n",
              "    </tr>\n",
              "    <tr>\n",
              "      <th>Year</th>\n",
              "      <th></th>\n",
              "      <th></th>\n",
              "      <th></th>\n",
              "      <th></th>\n",
              "      <th></th>\n",
              "      <th></th>\n",
              "      <th></th>\n",
              "      <th></th>\n",
              "      <th></th>\n",
              "      <th></th>\n",
              "      <th></th>\n",
              "    </tr>\n",
              "  </thead>\n",
              "  <tbody>\n",
              "    <tr>\n",
              "      <th>1950</th>\n",
              "      <td>2557628654</td>\n",
              "      <td>2.516000e+09</td>\n",
              "      <td>2.525149e+09</td>\n",
              "      <td>2.544000e+09</td>\n",
              "      <td>2.527960e+09</td>\n",
              "      <td>2.400000e+09</td>\n",
              "      <td>2.527000e+09</td>\n",
              "      <td>2.500000e+09</td>\n",
              "      <td>2.400000e+09</td>\n",
              "      <td>NaN</td>\n",
              "      <td>2.486000e+09</td>\n",
              "    </tr>\n",
              "    <tr>\n",
              "      <th>1951</th>\n",
              "      <td>2594939877</td>\n",
              "      <td>NaN</td>\n",
              "      <td>2.572851e+09</td>\n",
              "      <td>2.571663e+09</td>\n",
              "      <td>NaN</td>\n",
              "      <td>NaN</td>\n",
              "      <td>NaN</td>\n",
              "      <td>NaN</td>\n",
              "      <td>NaN</td>\n",
              "      <td>NaN</td>\n",
              "      <td>NaN</td>\n",
              "    </tr>\n",
              "    <tr>\n",
              "      <th>1952</th>\n",
              "      <td>2636772306</td>\n",
              "      <td>NaN</td>\n",
              "      <td>2.619292e+09</td>\n",
              "      <td>2.617949e+09</td>\n",
              "      <td>NaN</td>\n",
              "      <td>NaN</td>\n",
              "      <td>NaN</td>\n",
              "      <td>NaN</td>\n",
              "      <td>NaN</td>\n",
              "      <td>NaN</td>\n",
              "      <td>NaN</td>\n",
              "    </tr>\n",
              "    <tr>\n",
              "      <th>1953</th>\n",
              "      <td>2682053389</td>\n",
              "      <td>NaN</td>\n",
              "      <td>2.665865e+09</td>\n",
              "      <td>2.665959e+09</td>\n",
              "      <td>NaN</td>\n",
              "      <td>NaN</td>\n",
              "      <td>NaN</td>\n",
              "      <td>NaN</td>\n",
              "      <td>NaN</td>\n",
              "      <td>NaN</td>\n",
              "      <td>NaN</td>\n",
              "    </tr>\n",
              "    <tr>\n",
              "      <th>1954</th>\n",
              "      <td>2730228104</td>\n",
              "      <td>NaN</td>\n",
              "      <td>2.713172e+09</td>\n",
              "      <td>2.716927e+09</td>\n",
              "      <td>NaN</td>\n",
              "      <td>NaN</td>\n",
              "      <td>NaN</td>\n",
              "      <td>NaN</td>\n",
              "      <td>NaN</td>\n",
              "      <td>NaN</td>\n",
              "      <td>NaN</td>\n",
              "    </tr>\n",
              "  </tbody>\n",
              "</table>\n",
              "</div>"
            ],
            "text/plain": [
              "          census           prb            un  ...    thomlinson  durand         clark\n",
              "Year                                          ...                                    \n",
              "1950  2557628654  2.516000e+09  2.525149e+09  ...  2.400000e+09     NaN  2.486000e+09\n",
              "1951  2594939877           NaN  2.572851e+09  ...           NaN     NaN           NaN\n",
              "1952  2636772306           NaN  2.619292e+09  ...           NaN     NaN           NaN\n",
              "1953  2682053389           NaN  2.665865e+09  ...           NaN     NaN           NaN\n",
              "1954  2730228104           NaN  2.713172e+09  ...           NaN     NaN           NaN\n",
              "\n",
              "[5 rows x 11 columns]"
            ]
          },
          "metadata": {},
          "execution_count": 6
        }
      ]
    },
    {
      "cell_type": "markdown",
      "metadata": {
        "id": "zl940NoxSc3M"
      },
      "source": [
        "Siapkan data yang akan dibandingkan dengan model yang akan kita buat."
      ]
    },
    {
      "cell_type": "code",
      "metadata": {
        "colab": {
          "base_uri": "https://localhost:8080/"
        },
        "id": "P35cf4cDCXBQ",
        "outputId": "22d37ff3-f757-4323-b8a1-e0ad4c5e6740"
      },
      "source": [
        "census = data.census / 1e9\n",
        "un = data.un / 1e9\n",
        "print(\"======== census data ========\")\n",
        "print(census.head(8), \"\\n\")\n",
        "print(\"======== un data ========\")\n",
        "print(un.head(8))"
      ],
      "execution_count": 7,
      "outputs": [
        {
          "output_type": "stream",
          "name": "stdout",
          "text": [
            "======== census data ========\n",
            "Year\n",
            "1950    2.557629\n",
            "1951    2.594940\n",
            "1952    2.636772\n",
            "1953    2.682053\n",
            "1954    2.730228\n",
            "1955    2.782099\n",
            "1956    2.835300\n",
            "1957    2.891350\n",
            "Name: census, dtype: float64 \n",
            "\n",
            "======== un data ========\n",
            "Year\n",
            "1950    2.525149\n",
            "1951    2.572851\n",
            "1952    2.619292\n",
            "1953    2.665865\n",
            "1954    2.713172\n",
            "1955    2.761651\n",
            "1956    2.811572\n",
            "1957    2.863043\n",
            "Name: un, dtype: float64\n"
          ]
        }
      ]
    },
    {
      "cell_type": "markdown",
      "metadata": {
        "id": "rD0u8a9U8kEX"
      },
      "source": [
        "## Create a Model"
      ]
    },
    {
      "cell_type": "markdown",
      "metadata": {
        "id": "Gozfw51R7efE"
      },
      "source": [
        "Quadratic relationship code: <br>\n",
        "`net_growth = system.alpha * pop + system.beta * pop**2`"
      ]
    },
    {
      "cell_type": "code",
      "metadata": {
        "id": "xGWiXpXfx5pO"
      },
      "source": [
        "def growth_func_quad(t, pop, system):\n",
        "  return system.alpha * pop + system.beta * pop**2"
      ],
      "execution_count": 8,
      "outputs": []
    },
    {
      "cell_type": "markdown",
      "metadata": {
        "id": "4bJPFroS8EuL"
      },
      "source": [
        "Berikut adalah `System` object yang akan digunakan untuk kasus ini. <br>\n",
        "* `t_0` = waktu awal\n",
        "* `t_end` = waktu akhir\n",
        "* `p_0` = jumlah populasi awal\n"
      ]
    },
    {
      "cell_type": "code",
      "metadata": {
        "colab": {
          "base_uri": "https://localhost:8080/"
        },
        "id": "JB0getB18D6W",
        "outputId": "7d89b87d-8cf8-4fc1-bfbf-112a01f902dc"
      },
      "source": [
        "t_0 = census.index[0]         # 1950\n",
        "p_0 = census[t_0]             # 2.557628654\n",
        "t_end = census.index[-1]      # 2016\n",
        "\n",
        "system = System(t_0 = t_0, p_0 = p_0, t_end = t_end)\n",
        "system"
      ],
      "execution_count": 9,
      "outputs": [
        {
          "output_type": "execute_result",
          "data": {
            "text/plain": [
              "System(p_0=2.557628654, t_0=1950, t_end=2016)"
            ]
          },
          "metadata": {},
          "execution_count": 9
        }
      ]
    },
    {
      "cell_type": "markdown",
      "metadata": {
        "id": "bjRZyJ5qElfG"
      },
      "source": [
        "Menambahkan parameter `beta` dan `alpha` ke dalam `system` kita."
      ]
    },
    {
      "cell_type": "code",
      "metadata": {
        "colab": {
          "base_uri": "https://localhost:8080/"
        },
        "id": "npFKduyaDsqR",
        "outputId": "a6735fc6-ac61-4291-bcc5-64f312807dbb"
      },
      "source": [
        "system.alpha = 25/1000\n",
        "system.beta = -1.8/1000\n",
        "system"
      ],
      "execution_count": 10,
      "outputs": [
        {
          "output_type": "execute_result",
          "data": {
            "text/plain": [
              "System(alpha=0.025, beta=-0.0018, p_0=2.557628654, t_0=1950, t_end=2016)"
            ]
          },
          "metadata": {},
          "execution_count": 10
        }
      ]
    },
    {
      "cell_type": "markdown",
      "metadata": {
        "id": "92yMIcaQE_Wm"
      },
      "source": [
        "Jalankan simulasi"
      ]
    },
    {
      "cell_type": "code",
      "metadata": {
        "id": "husMm71EQgJC"
      },
      "source": [
        "def run_simulation(system, growth_func):\n",
        "    results = TimeSeries()\n",
        "    results[system.t_0] = system.p_0\n",
        "    \n",
        "    for t in range(system.t_0, system.t_end):\n",
        "        growth = growth_func(t, results[t], system)\n",
        "        results[t+1] = results[t] + growth\n",
        "        \n",
        "    return results"
      ],
      "execution_count": 11,
      "outputs": []
    },
    {
      "cell_type": "code",
      "metadata": {
        "id": "VSaKCeh7E991"
      },
      "source": [
        "model_results = run_simulation(system, growth_func_quad)"
      ],
      "execution_count": 12,
      "outputs": []
    },
    {
      "cell_type": "code",
      "metadata": {
        "colab": {
          "base_uri": "https://localhost:8080/"
        },
        "id": "XP0HBHm4Egnz",
        "outputId": "0196c9e2-7381-4725-dc5d-4c2dbac498cf"
      },
      "source": [
        "model_results"
      ],
      "execution_count": 13,
      "outputs": [
        {
          "output_type": "execute_result",
          "data": {
            "text/plain": [
              "Time\n",
              "1950    2.557629\n",
              "1951    2.609795\n",
              "1952    2.662780\n",
              "1953    2.716587\n",
              "1954    2.771217\n",
              "          ...   \n",
              "2012    7.135843\n",
              "2013    7.222583\n",
              "2014    7.309249\n",
              "2015    7.395815\n",
              "2016    7.482254\n",
              "Name: Quantity, Length: 67, dtype: float64"
            ]
          },
          "metadata": {},
          "execution_count": 13
        }
      ]
    },
    {
      "cell_type": "markdown",
      "metadata": {
        "id": "LMY79vN1Sq9x"
      },
      "source": [
        "## Plot the Model\n",
        "Di sini kita akan membuat line plot yang bertujuan untuk membandingkan hasil dari model yang sudah dibuat dengan data aslinya."
      ]
    },
    {
      "cell_type": "markdown",
      "metadata": {
        "id": "GZY8YqQ8TuzX"
      },
      "source": [
        "Kombinasikan data asli dengan data yang digenerate oleh model.\n"
      ]
    },
    {
      "cell_type": "code",
      "metadata": {
        "id": "ZpV03j8qT11u"
      },
      "source": [
        "import pandas as pd\n",
        "\n",
        "data_combined = pd.concat([model_results, census, un], axis=1)\n",
        "\n",
        "# rename the columns name\n",
        "data_combined.columns = ['model', 'census', 'un']"
      ],
      "execution_count": 14,
      "outputs": []
    },
    {
      "cell_type": "code",
      "metadata": {
        "colab": {
          "base_uri": "https://localhost:8080/",
          "height": 204
        },
        "id": "cmwhT8bAURFc",
        "outputId": "681dbcf0-551e-4012-dc3f-a2d88d06cc3b"
      },
      "source": [
        "data_combined.head()"
      ],
      "execution_count": 15,
      "outputs": [
        {
          "output_type": "execute_result",
          "data": {
            "text/html": [
              "<div>\n",
              "<style scoped>\n",
              "    .dataframe tbody tr th:only-of-type {\n",
              "        vertical-align: middle;\n",
              "    }\n",
              "\n",
              "    .dataframe tbody tr th {\n",
              "        vertical-align: top;\n",
              "    }\n",
              "\n",
              "    .dataframe thead th {\n",
              "        text-align: right;\n",
              "    }\n",
              "</style>\n",
              "<table border=\"1\" class=\"dataframe\">\n",
              "  <thead>\n",
              "    <tr style=\"text-align: right;\">\n",
              "      <th></th>\n",
              "      <th>model</th>\n",
              "      <th>census</th>\n",
              "      <th>un</th>\n",
              "    </tr>\n",
              "  </thead>\n",
              "  <tbody>\n",
              "    <tr>\n",
              "      <th>1950</th>\n",
              "      <td>2.557629</td>\n",
              "      <td>2.557629</td>\n",
              "      <td>2.525149</td>\n",
              "    </tr>\n",
              "    <tr>\n",
              "      <th>1951</th>\n",
              "      <td>2.609795</td>\n",
              "      <td>2.594940</td>\n",
              "      <td>2.572851</td>\n",
              "    </tr>\n",
              "    <tr>\n",
              "      <th>1952</th>\n",
              "      <td>2.662780</td>\n",
              "      <td>2.636772</td>\n",
              "      <td>2.619292</td>\n",
              "    </tr>\n",
              "    <tr>\n",
              "      <th>1953</th>\n",
              "      <td>2.716587</td>\n",
              "      <td>2.682053</td>\n",
              "      <td>2.665865</td>\n",
              "    </tr>\n",
              "    <tr>\n",
              "      <th>1954</th>\n",
              "      <td>2.771217</td>\n",
              "      <td>2.730228</td>\n",
              "      <td>2.713172</td>\n",
              "    </tr>\n",
              "  </tbody>\n",
              "</table>\n",
              "</div>"
            ],
            "text/plain": [
              "         model    census        un\n",
              "1950  2.557629  2.557629  2.525149\n",
              "1951  2.609795  2.594940  2.572851\n",
              "1952  2.662780  2.636772  2.619292\n",
              "1953  2.716587  2.682053  2.665865\n",
              "1954  2.771217  2.730228  2.713172"
            ]
          },
          "metadata": {},
          "execution_count": 15
        }
      ]
    },
    {
      "cell_type": "code",
      "metadata": {
        "colab": {
          "base_uri": "https://localhost:8080/",
          "height": 499
        },
        "id": "LTbR9KNzQmho",
        "outputId": "3f8caa4c-5407-460b-cc64-f8e9f35218d1"
      },
      "source": [
        "import seaborn as sns\n",
        "import matplotlib.pyplot as plt\n",
        "\n",
        "plt.figure(figsize = (15,8))\n",
        "sns.set_style('darkgrid')\n",
        "p = sns.lineplot(data = data_combined).set(title=\"Quadratic Growth Model\")"
      ],
      "execution_count": 16,
      "outputs": [
        {
          "output_type": "display_data",
          "data": {
            "image/png": "[encoded data removed]",
            "text/plain": [
              "<Figure size 1080x576 with 1 Axes>"
            ]
          },
          "metadata": {
            "needs_background": "light"
          }
        }
      ]
    },
    {
      "cell_type": "markdown",
      "metadata": {
        "id": "pHRJ4yGbUQKP"
      },
      "source": [
        "Model fit dengan data hampir di seluruh interval tahun, walaupun ada sedikit ruang antara model dengan data sebenarnya di tahun 1960-an. <br>\n",
        "\n",
        "Model quadratic lebih cocok daripada model konstan dan proporsional, karena model ini memiliki 2 paramater yang dapat dipilih dibandingkan kedua model sebelumnya yang hanya memiliki 1 parameter.\n",
        "Secara umum semakin banyak parameter yang dapat dimiliki, semakin berpotensi model tersebut fit dengan baik."
      ]
    },
    {
      "cell_type": "markdown",
      "metadata": {
        "id": "L8zkmZvZVmWK"
      },
      "source": [
        "**NOTE:** <br>\n",
        "Model yang fit dengan data asli bukanlah satu-satunya alasan untuk berpikir bahwa model quadratic mungkin merupakan pilihan yang bagus."
      ]
    },
    {
      "cell_type": "markdown",
      "metadata": {
        "id": "oXxTCPGrUHwO"
      },
      "source": [
        "# Net Growth"
      ]
    },
    {
      "cell_type": "markdown",
      "metadata": {
        "id": "KPwTDR67XhB_"
      },
      "source": [
        "* Buat graphic yang menggambarkan hubungan antara **growth** dan **population** dengan menggunakan model quadratic.\n",
        "\n",
        "* Generate sebuah data yang memiliki 101 populasi yang setiap jumlah orang di populasi-populasi tersebut berada di interval 0 sampai 15 miliar.\n"
      ]
    },
    {
      "cell_type": "code",
      "metadata": {
        "id": "RQdZP_1STjeI",
        "colab": {
          "base_uri": "https://localhost:8080/"
        },
        "outputId": "6a623be5-59e5-4dd2-8c12-3d1b29e0eecc"
      },
      "source": [
        "import numpy as np\n",
        "\n",
        "pop_array = np.linspace(0, 15, 101)\n",
        "\n",
        "pop_array"
      ],
      "execution_count": 1,
      "outputs": [
        {
          "output_type": "execute_result",
          "data": {
            "text/plain": [
              "array([ 0.  ,  0.15,  0.3 ,  0.45,  0.6 ,  0.75,  0.9 ,  1.05,  1.2 ,\n",
              "        1.35,  1.5 ,  1.65,  1.8 ,  1.95,  2.1 ,  2.25,  2.4 ,  2.55,\n",
              "        2.7 ,  2.85,  3.  ,  3.15,  3.3 ,  3.45,  3.6 ,  3.75,  3.9 ,\n",
              "        4.05,  4.2 ,  4.35,  4.5 ,  4.65,  4.8 ,  4.95,  5.1 ,  5.25,\n",
              "        5.4 ,  5.55,  5.7 ,  5.85,  6.  ,  6.15,  6.3 ,  6.45,  6.6 ,\n",
              "        6.75,  6.9 ,  7.05,  7.2 ,  7.35,  7.5 ,  7.65,  7.8 ,  7.95,\n",
              "        8.1 ,  8.25,  8.4 ,  8.55,  8.7 ,  8.85,  9.  ,  9.15,  9.3 ,\n",
              "        9.45,  9.6 ,  9.75,  9.9 , 10.05, 10.2 , 10.35, 10.5 , 10.65,\n",
              "       10.8 , 10.95, 11.1 , 11.25, 11.4 , 11.55, 11.7 , 11.85, 12.  ,\n",
              "       12.15, 12.3 , 12.45, 12.6 , 12.75, 12.9 , 13.05, 13.2 , 13.35,\n",
              "       13.5 , 13.65, 13.8 , 13.95, 14.1 , 14.25, 14.4 , 14.55, 14.7 ,\n",
              "       14.85, 15.  ])"
            ]
          },
          "metadata": {},
          "execution_count": 1
        }
      ]
    },
    {
      "cell_type": "markdown",
      "metadata": {
        "id": "b4pHgZX3Yvaw"
      },
      "source": [
        "Dengan menggunakan model quadratic untuk menghitung pertumbuhan populasi (**growth**)\n",
        " untuk setiap populasi."
      ]
    },
    {
      "cell_type": "code",
      "metadata": {
        "colab": {
          "base_uri": "https://localhost:8080/"
        },
        "id": "iLK9NUMgW06y",
        "outputId": "ccc517bb-9b92-47e5-f824-4219bcde5b55"
      },
      "source": [
        "growth_array = system.alpha * pop_array + system.beta *pop_array**2\n",
        "growth_array"
      ],
      "execution_count": 22,
      "outputs": [
        {
          "output_type": "execute_result",
          "data": {
            "text/plain": [
              "array([ 0.       ,  0.0037095,  0.007338 ,  0.0108855,  0.014352 ,\n",
              "        0.0177375,  0.021042 ,  0.0242655,  0.027408 ,  0.0304695,\n",
              "        0.03345  ,  0.0363495,  0.039168 ,  0.0419055,  0.044562 ,\n",
              "        0.0471375,  0.049632 ,  0.0520455,  0.054378 ,  0.0566295,\n",
              "        0.0588   ,  0.0608895,  0.062898 ,  0.0648255,  0.066672 ,\n",
              "        0.0684375,  0.070122 ,  0.0717255,  0.073248 ,  0.0746895,\n",
              "        0.07605  ,  0.0773295,  0.078528 ,  0.0796455,  0.080682 ,\n",
              "        0.0816375,  0.082512 ,  0.0833055,  0.084018 ,  0.0846495,\n",
              "        0.0852   ,  0.0856695,  0.086058 ,  0.0863655,  0.086592 ,\n",
              "        0.0867375,  0.086802 ,  0.0867855,  0.086688 ,  0.0865095,\n",
              "        0.08625  ,  0.0859095,  0.085488 ,  0.0849855,  0.084402 ,\n",
              "        0.0837375,  0.082992 ,  0.0821655,  0.081258 ,  0.0802695,\n",
              "        0.0792   ,  0.0780495,  0.076818 ,  0.0755055,  0.074112 ,\n",
              "        0.0726375,  0.071082 ,  0.0694455,  0.067728 ,  0.0659295,\n",
              "        0.06405  ,  0.0620895,  0.060048 ,  0.0579255,  0.055722 ,\n",
              "        0.0534375,  0.051072 ,  0.0486255,  0.046098 ,  0.0434895,\n",
              "        0.0408   ,  0.0380295,  0.035178 ,  0.0322455,  0.029232 ,\n",
              "        0.0261375,  0.022962 ,  0.0197055,  0.016368 ,  0.0129495,\n",
              "        0.00945  ,  0.0058695,  0.002208 , -0.0015345, -0.005358 ,\n",
              "       -0.0092625, -0.013248 , -0.0173145, -0.021462 , -0.0256905,\n",
              "       -0.03     ])"
            ]
          },
          "metadata": {},
          "execution_count": 22
        }
      ]
    },
    {
      "cell_type": "markdown",
      "metadata": {
        "id": "sVDUhcsMZmil"
      },
      "source": [
        "Sekarang kita sudah punya data **population** dan **growth**, selanjutnya bikin graph yang mengambarkan hubungan kedua data ini. "
      ]
    },
    {
      "cell_type": "code",
      "metadata": {
        "colab": {
          "base_uri": "https://localhost:8080/",
          "height": 297
        },
        "id": "xWvkVFq1ZWsy",
        "outputId": "751413ae-71d7-46f1-fcc5-6b5fcef1ff75"
      },
      "source": [
        "plt.plot(pop_array, growt_array, label='net growth', color='C5')\n",
        "\n",
        "decorate(xlabel='Population (billions)',\n",
        "         ylabel='Net growth (billions)',\n",
        "         title='Net Growth vs. Population')"
      ],
      "execution_count": 29,
      "outputs": [
        {
          "output_type": "display_data",
          "data": {
            "image/png": "[encoded data removed]",
            "text/plain": [
              "<Figure size 432x288 with 1 Axes>"
            ]
          },
          "metadata": {}
        }
      ]
    },
    {
      "cell_type": "markdown",
      "metadata": {
        "id": "OJS8GpBBb-ci"
      },
      "source": [
        "**Model's Behavior**:<br>\n",
        "* Ketika populasi kurang dari 3 miliar, net growth proporsional terhadap populasi atau sebanding dengan populasi, seperti pada model proporsional. Dalam interval tersebut populasi tumbuh lambat karena populasinya sedikit.\n",
        "* Di interval 3 miliar sampai 10 miliar, populasi tumbuh lebih cepat karena sudah banyak jumlah orang di interval tersebut, setidaknya lebih banyak daripada interval sebelumnya.\n",
        "* Di atas 10 miliar, populasi tumbuh lebih lambat, behavior ini adalah efek dari keterbatasan sumber daya yang menurunkan angka kelahiran atau meningkatnya angka kematian.\n",
        "* Di atas 14 miliar, sumber daya menjadi sangat terbatas sehingga angka kematian melebihi angka kelahiran dan pertumbuhan bersih menjadi negatif."
      ]
    },
    {
      "cell_type": "code",
      "metadata": {
        "id": "9rP6vU3Ea4PC"
      },
      "source": [
        ""
      ],
      "execution_count": null,
      "outputs": []
    }
  ]
}