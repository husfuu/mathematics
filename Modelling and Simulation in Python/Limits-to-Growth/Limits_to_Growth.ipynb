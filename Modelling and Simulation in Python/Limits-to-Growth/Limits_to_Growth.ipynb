{
  "nbformat": 4,
  "nbformat_minor": 0,
  "metadata": {
    "colab": {
      "name": "Limits to Growth.ipynb",
      "provenance": [],
      "collapsed_sections": [],
      "toc_visible": true,
      "authorship_tag": "ABX9TyPBbQr7GS8pKhLwe6FqRbDu",
      "include_colab_link": true
    },
    "kernelspec": {
      "name": "python3",
      "display_name": "Python 3"
    },
    "language_info": {
      "name": "python"
    }
  },
  "cells": [
    {
      "cell_type": "markdown",
      "metadata": {
        "id": "view-in-github",
        "colab_type": "text"
      },
      "source": [
        "<a href=\"https://colab.research.google.com/github/husfuu/Mathematical-Modelling/blob/main/Modelling%20and%20Simulation%20in%20Python/Limits_to_Growth.ipynb\" target=\"_parent\"><img src=\"https://colab.research.google.com/assets/colab-badge.svg\" alt=\"Open In Colab\"/></a>"
      ]
    },
    {
      "cell_type": "markdown",
      "metadata": {
        "id": "-CocUhdq7X4v"
      },
      "source": [
        "#Quadratic Growth"
      ]
    },
    {
      "cell_type": "markdown",
      "metadata": {
        "id": "d5mFZq0D8fK6"
      },
      "source": [
        "## Introduction"
      ]
    },
    {
      "cell_type": "markdown",
      "metadata": {
        "id": "nTQ5pkYp8cML"
      },
      "source": [
        "## Setup Libraries and Load the Data"
      ]
    },
    {
      "cell_type": "code",
      "metadata": {
        "colab": {
          "base_uri": "https://localhost:8080/"
        },
        "id": "hM6yFbsU_tAa",
        "outputId": "17e07205-3c9e-4e6c-bdc9-79d83c1734f3"
      },
      "source": [
        "# install Pint if necessary\n",
        "try:\n",
        "    import pint\n",
        "except ImportError:\n",
        "    !pip install pint"
      ],
      "execution_count": null,
      "outputs": [
        {
          "output_type": "stream",
          "name": "stdout",
          "text": [
            "Collecting pint\n",
            "  Downloading Pint-0.17-py2.py3-none-any.whl (204 kB)\n",
            "\u001b[?25l\r\u001b[K     |█▋                              | 10 kB 24.8 MB/s eta 0:00:01\r\u001b[K     |███▏                            | 20 kB 29.2 MB/s eta 0:00:01\r\u001b[K     |████▉                           | 30 kB 12.4 MB/s eta 0:00:01\r\u001b[K     |██████▍                         | 40 kB 9.2 MB/s eta 0:00:01\r\u001b[K     |████████                        | 51 kB 5.2 MB/s eta 0:00:01\r\u001b[K     |█████████▋                      | 61 kB 5.8 MB/s eta 0:00:01\r\u001b[K     |███████████▏                    | 71 kB 5.2 MB/s eta 0:00:01\r\u001b[K     |████████████▉                   | 81 kB 5.9 MB/s eta 0:00:01\r\u001b[K     |██████████████▍                 | 92 kB 4.7 MB/s eta 0:00:01\r\u001b[K     |████████████████                | 102 kB 5.1 MB/s eta 0:00:01\r\u001b[K     |█████████████████▋              | 112 kB 5.1 MB/s eta 0:00:01\r\u001b[K     |███████████████████▏            | 122 kB 5.1 MB/s eta 0:00:01\r\u001b[K     |████████████████████▉           | 133 kB 5.1 MB/s eta 0:00:01\r\u001b[K     |██████████████████████▍         | 143 kB 5.1 MB/s eta 0:00:01\r\u001b[K     |████████████████████████        | 153 kB 5.1 MB/s eta 0:00:01\r\u001b[K     |█████████████████████████▋      | 163 kB 5.1 MB/s eta 0:00:01\r\u001b[K     |███████████████████████████▏    | 174 kB 5.1 MB/s eta 0:00:01\r\u001b[K     |████████████████████████████▊   | 184 kB 5.1 MB/s eta 0:00:01\r\u001b[K     |██████████████████████████████▍ | 194 kB 5.1 MB/s eta 0:00:01\r\u001b[K     |████████████████████████████████| 204 kB 5.1 MB/s eta 0:00:01\r\u001b[K     |████████████████████████████████| 204 kB 5.1 MB/s \n",
            "\u001b[?25hRequirement already satisfied: importlib-metadata in /usr/local/lib/python3.7/dist-packages (from pint) (4.8.1)\n",
            "Requirement already satisfied: packaging in /usr/local/lib/python3.7/dist-packages (from pint) (21.0)\n",
            "Requirement already satisfied: typing-extensions>=3.6.4 in /usr/local/lib/python3.7/dist-packages (from importlib-metadata->pint) (3.7.4.3)\n",
            "Requirement already satisfied: zipp>=0.5 in /usr/local/lib/python3.7/dist-packages (from importlib-metadata->pint) (3.6.0)\n",
            "Requirement already satisfied: pyparsing>=2.0.2 in /usr/local/lib/python3.7/dist-packages (from packaging->pint) (2.4.7)\n",
            "Installing collected packages: pint\n",
            "Successfully installed pint-0.17\n"
          ]
        }
      ]
    },
    {
      "cell_type": "code",
      "metadata": {
        "colab": {
          "base_uri": "https://localhost:8080/"
        },
        "id": "4rSbcW1D8q0b",
        "outputId": "9aac7f4b-37e2-4640-8365-c614d7030d3d"
      },
      "source": [
        "# download modsim.py if necessary\n",
        "\n",
        "from os.path import basename, exists\n",
        "\n",
        "def download(url):\n",
        "    filename = basename(url)\n",
        "    if not exists(filename):\n",
        "        from urllib.request import urlretrieve\n",
        "        local, _ = urlretrieve(url, filename)\n",
        "        print('Downloaded ' + local)\n",
        "    \n",
        "download('https://github.com/AllenDowney/ModSimPy/raw/master/' +\n",
        "         'modsim.py')"
      ],
      "execution_count": null,
      "outputs": [
        {
          "output_type": "stream",
          "name": "stdout",
          "text": [
            "Downloaded modsim.py\n"
          ]
        }
      ]
    },
    {
      "cell_type": "code",
      "metadata": {
        "id": "bUb4DAet8uHd"
      },
      "source": [
        "# import functions from modsim\n",
        "\n",
        "from modsim import *"
      ],
      "execution_count": null,
      "outputs": []
    },
    {
      "cell_type": "code",
      "metadata": {
        "colab": {
          "base_uri": "https://localhost:8080/"
        },
        "id": "jzuzhhwn_-gK",
        "outputId": "48a342fd-d7cb-4f36-d345-c9af571d2df1"
      },
      "source": [
        "download('https://raw.githubusercontent.com/AllenDowney/' +\n",
        "         'ModSimPy/master/data/World_population_estimates.html')"
      ],
      "execution_count": null,
      "outputs": [
        {
          "output_type": "stream",
          "name": "stdout",
          "text": [
            "Downloaded World_population_estimates.html\n"
          ]
        }
      ]
    },
    {
      "cell_type": "code",
      "metadata": {
        "colab": {
          "base_uri": "https://localhost:8080/",
          "height": 255
        },
        "id": "wP5zup8g-Phn",
        "outputId": "2c8f0fb2-dff4-4d61-f6f7-2a91a2ff9d7d"
      },
      "source": [
        "import pandas as pd\n",
        "\n",
        "from pandas import read_html\n",
        "\n",
        "filename = 'World_population_estimates.html'\n",
        "data = read_html(filename,\n",
        "                   header=0, \n",
        "                   index_col=0,\n",
        "                   decimal='M')\n",
        "\n",
        "data = data[2]\n",
        "\n",
        "# change data's columns name\n",
        "data.columns = ['census', 'prb', 'un', 'maddison', 'hyde', 'tanton', 'biraben', 'mj', 'thomlinson', 'durand', 'clark']\n",
        "\n",
        "data.head()"
      ],
      "execution_count": null,
      "outputs": [
        {
          "output_type": "execute_result",
          "data": {
            "text/html": [
              "<div>\n",
              "<style scoped>\n",
              "    .dataframe tbody tr th:only-of-type {\n",
              "        vertical-align: middle;\n",
              "    }\n",
              "\n",
              "    .dataframe tbody tr th {\n",
              "        vertical-align: top;\n",
              "    }\n",
              "\n",
              "    .dataframe thead th {\n",
              "        text-align: right;\n",
              "    }\n",
              "</style>\n",
              "<table border=\"1\" class=\"dataframe\">\n",
              "  <thead>\n",
              "    <tr style=\"text-align: right;\">\n",
              "      <th></th>\n",
              "      <th>census</th>\n",
              "      <th>prb</th>\n",
              "      <th>un</th>\n",
              "      <th>maddison</th>\n",
              "      <th>hyde</th>\n",
              "      <th>tanton</th>\n",
              "      <th>biraben</th>\n",
              "      <th>mj</th>\n",
              "      <th>thomlinson</th>\n",
              "      <th>durand</th>\n",
              "      <th>clark</th>\n",
              "    </tr>\n",
              "    <tr>\n",
              "      <th>Year</th>\n",
              "      <th></th>\n",
              "      <th></th>\n",
              "      <th></th>\n",
              "      <th></th>\n",
              "      <th></th>\n",
              "      <th></th>\n",
              "      <th></th>\n",
              "      <th></th>\n",
              "      <th></th>\n",
              "      <th></th>\n",
              "      <th></th>\n",
              "    </tr>\n",
              "  </thead>\n",
              "  <tbody>\n",
              "    <tr>\n",
              "      <th>1950</th>\n",
              "      <td>2557628654</td>\n",
              "      <td>2.516000e+09</td>\n",
              "      <td>2.525149e+09</td>\n",
              "      <td>2.544000e+09</td>\n",
              "      <td>2.527960e+09</td>\n",
              "      <td>2.400000e+09</td>\n",
              "      <td>2.527000e+09</td>\n",
              "      <td>2.500000e+09</td>\n",
              "      <td>2.400000e+09</td>\n",
              "      <td>NaN</td>\n",
              "      <td>2.486000e+09</td>\n",
              "    </tr>\n",
              "    <tr>\n",
              "      <th>1951</th>\n",
              "      <td>2594939877</td>\n",
              "      <td>NaN</td>\n",
              "      <td>2.572851e+09</td>\n",
              "      <td>2.571663e+09</td>\n",
              "      <td>NaN</td>\n",
              "      <td>NaN</td>\n",
              "      <td>NaN</td>\n",
              "      <td>NaN</td>\n",
              "      <td>NaN</td>\n",
              "      <td>NaN</td>\n",
              "      <td>NaN</td>\n",
              "    </tr>\n",
              "    <tr>\n",
              "      <th>1952</th>\n",
              "      <td>2636772306</td>\n",
              "      <td>NaN</td>\n",
              "      <td>2.619292e+09</td>\n",
              "      <td>2.617949e+09</td>\n",
              "      <td>NaN</td>\n",
              "      <td>NaN</td>\n",
              "      <td>NaN</td>\n",
              "      <td>NaN</td>\n",
              "      <td>NaN</td>\n",
              "      <td>NaN</td>\n",
              "      <td>NaN</td>\n",
              "    </tr>\n",
              "    <tr>\n",
              "      <th>1953</th>\n",
              "      <td>2682053389</td>\n",
              "      <td>NaN</td>\n",
              "      <td>2.665865e+09</td>\n",
              "      <td>2.665959e+09</td>\n",
              "      <td>NaN</td>\n",
              "      <td>NaN</td>\n",
              "      <td>NaN</td>\n",
              "      <td>NaN</td>\n",
              "      <td>NaN</td>\n",
              "      <td>NaN</td>\n",
              "      <td>NaN</td>\n",
              "    </tr>\n",
              "    <tr>\n",
              "      <th>1954</th>\n",
              "      <td>2730228104</td>\n",
              "      <td>NaN</td>\n",
              "      <td>2.713172e+09</td>\n",
              "      <td>2.716927e+09</td>\n",
              "      <td>NaN</td>\n",
              "      <td>NaN</td>\n",
              "      <td>NaN</td>\n",
              "      <td>NaN</td>\n",
              "      <td>NaN</td>\n",
              "      <td>NaN</td>\n",
              "      <td>NaN</td>\n",
              "    </tr>\n",
              "  </tbody>\n",
              "</table>\n",
              "</div>"
            ],
            "text/plain": [
              "          census           prb            un  ...    thomlinson  durand         clark\n",
              "Year                                          ...                                    \n",
              "1950  2557628654  2.516000e+09  2.525149e+09  ...  2.400000e+09     NaN  2.486000e+09\n",
              "1951  2594939877           NaN  2.572851e+09  ...           NaN     NaN           NaN\n",
              "1952  2636772306           NaN  2.619292e+09  ...           NaN     NaN           NaN\n",
              "1953  2682053389           NaN  2.665865e+09  ...           NaN     NaN           NaN\n",
              "1954  2730228104           NaN  2.713172e+09  ...           NaN     NaN           NaN\n",
              "\n",
              "[5 rows x 11 columns]"
            ]
          },
          "metadata": {},
          "execution_count": 30
        }
      ]
    },
    {
      "cell_type": "markdown",
      "metadata": {
        "id": "zl940NoxSc3M"
      },
      "source": [
        "Siapkan data yang akan dibandingkan dengan model yang akan kita buat."
      ]
    },
    {
      "cell_type": "code",
      "metadata": {
        "colab": {
          "base_uri": "https://localhost:8080/"
        },
        "id": "P35cf4cDCXBQ",
        "outputId": "874bc155-e5b6-4097-ba60-fa9a326e0be2"
      },
      "source": [
        "census = data.census / 1e9\n",
        "un = data.un / 1e9\n",
        "print(\"======== census data ========\")\n",
        "print(census.head(8), \"\\n\")\n",
        "print(\"======== un data ========\")\n",
        "print(un.head(8))"
      ],
      "execution_count": null,
      "outputs": [
        {
          "output_type": "stream",
          "name": "stdout",
          "text": [
            "======== census data ========\n",
            "Year\n",
            "1950    2.557629\n",
            "1951    2.594940\n",
            "1952    2.636772\n",
            "1953    2.682053\n",
            "1954    2.730228\n",
            "1955    2.782099\n",
            "1956    2.835300\n",
            "1957    2.891350\n",
            "Name: census, dtype: float64 \n",
            "\n",
            "======== un data ========\n",
            "Year\n",
            "1950    2.525149\n",
            "1951    2.572851\n",
            "1952    2.619292\n",
            "1953    2.665865\n",
            "1954    2.713172\n",
            "1955    2.761651\n",
            "1956    2.811572\n",
            "1957    2.863043\n",
            "Name: un, dtype: float64\n"
          ]
        }
      ]
    },
    {
      "cell_type": "markdown",
      "metadata": {
        "id": "rD0u8a9U8kEX"
      },
      "source": [
        "## Create a Model"
      ]
    },
    {
      "cell_type": "markdown",
      "metadata": {
        "id": "Gozfw51R7efE"
      },
      "source": [
        "Quadratic relationship code: <br>\n",
        "`net_growth = system.alpha * pop + system.beta * pop**2`"
      ]
    },
    {
      "cell_type": "code",
      "metadata": {
        "id": "xGWiXpXfx5pO"
      },
      "source": [
        "def growth_func_quad(t, pop, system):\n",
        "  return system.alpha * pop + system.beta * pop**2"
      ],
      "execution_count": null,
      "outputs": []
    },
    {
      "cell_type": "markdown",
      "metadata": {
        "id": "4bJPFroS8EuL"
      },
      "source": [
        "Berikut adalah `System` object yang akan digunakan untuk kasus ini. <br>\n",
        "* `t_0` = waktu awal\n",
        "* `t_end` = waktu akhir\n",
        "* `p_0` = jumlah populasi awal\n"
      ]
    },
    {
      "cell_type": "code",
      "metadata": {
        "colab": {
          "base_uri": "https://localhost:8080/"
        },
        "id": "JB0getB18D6W",
        "outputId": "a8fbcd5a-2682-4997-9e9b-865dd0e9fd02"
      },
      "source": [
        "t_0 = census.index[0]         # 1950\n",
        "p_0 = census[t_0]             # 2.557628654\n",
        "t_end = census.index[-1]      # 2016\n",
        "\n",
        "system = System(t_0 = t_0, p_0 = p_0, t_end = t_end)\n",
        "system"
      ],
      "execution_count": null,
      "outputs": [
        {
          "output_type": "execute_result",
          "data": {
            "text/plain": [
              "System(p_0=2.557628654, t_0=1950, t_end=2016)"
            ]
          },
          "metadata": {},
          "execution_count": 38
        }
      ]
    },
    {
      "cell_type": "markdown",
      "metadata": {
        "id": "bjRZyJ5qElfG"
      },
      "source": [
        "Menambahkan parameter `beta` dan `alpha` ke dalam `system` kita."
      ]
    },
    {
      "cell_type": "code",
      "metadata": {
        "colab": {
          "base_uri": "https://localhost:8080/"
        },
        "id": "npFKduyaDsqR",
        "outputId": "abaf11bb-ddf0-4bed-e37e-8d99679b8ed7"
      },
      "source": [
        "system.alpha = 25/1000\n",
        "system.beta = -1.8/1000\n",
        "system"
      ],
      "execution_count": null,
      "outputs": [
        {
          "output_type": "execute_result",
          "data": {
            "text/plain": [
              "System(alpha=0.025, beta=-0.0018, p_0=2.557628654, t_0=1950, t_end=2016)"
            ]
          },
          "metadata": {},
          "execution_count": 41
        }
      ]
    },
    {
      "cell_type": "markdown",
      "metadata": {
        "id": "92yMIcaQE_Wm"
      },
      "source": [
        "Jalankan simulasi"
      ]
    },
    {
      "cell_type": "code",
      "metadata": {
        "id": "husMm71EQgJC"
      },
      "source": [
        "def run_simulation(system, growth_func):\n",
        "    results = TimeSeries()\n",
        "    results[system.t_0] = system.p_0\n",
        "    \n",
        "    for t in range(system.t_0, system.t_end):\n",
        "        growth = growth_func(t, results[t], system)\n",
        "        results[t+1] = results[t] + growth\n",
        "        \n",
        "    return results"
      ],
      "execution_count": null,
      "outputs": []
    },
    {
      "cell_type": "code",
      "metadata": {
        "id": "VSaKCeh7E991"
      },
      "source": [
        "model_results = run_simulation(system, growth_func_quad)"
      ],
      "execution_count": null,
      "outputs": []
    },
    {
      "cell_type": "code",
      "metadata": {
        "colab": {
          "base_uri": "https://localhost:8080/"
        },
        "id": "XP0HBHm4Egnz",
        "outputId": "ca9ac726-27e1-4f5c-a1d5-9437353b3d81"
      },
      "source": [
        "model_results"
      ],
      "execution_count": null,
      "outputs": [
        {
          "output_type": "execute_result",
          "data": {
            "text/plain": [
              "Time\n",
              "1950    2.557629\n",
              "1951    2.609795\n",
              "1952    2.662780\n",
              "1953    2.716587\n",
              "1954    2.771217\n",
              "          ...   \n",
              "2012    7.135843\n",
              "2013    7.222583\n",
              "2014    7.309249\n",
              "2015    7.395815\n",
              "2016    7.482254\n",
              "Name: Quantity, Length: 67, dtype: float64"
            ]
          },
          "metadata": {},
          "execution_count": 56
        }
      ]
    },
    {
      "cell_type": "markdown",
      "metadata": {
        "id": "LMY79vN1Sq9x"
      },
      "source": [
        "## Plot the Model\n",
        "Di sini kita akan membuat line plot yang bertujuan untuk membandingkan hasil dari model yang sudah dibuat dengan data aslinya."
      ]
    },
    {
      "cell_type": "markdown",
      "metadata": {
        "id": "GZY8YqQ8TuzX"
      },
      "source": [
        "Kombinasikan data asli dengan data yang digenerate oleh model.\n"
      ]
    },
    {
      "cell_type": "code",
      "metadata": {
        "id": "ZpV03j8qT11u"
      },
      "source": [
        "import pandas as pd\n",
        "\n",
        "data_combined = pd.concat([model_results, census, un], axis=1)\n",
        "\n",
        "# rename the columns name\n",
        "data_combined.columns = ['model', 'census', 'un']"
      ],
      "execution_count": null,
      "outputs": []
    },
    {
      "cell_type": "code",
      "metadata": {
        "colab": {
          "base_uri": "https://localhost:8080/",
          "height": 204
        },
        "id": "cmwhT8bAURFc",
        "outputId": "e43f5757-05af-4e92-f59d-7c03dcf3a3cc"
      },
      "source": [
        "data_combined.head()"
      ],
      "execution_count": null,
      "outputs": [
        {
          "output_type": "execute_result",
          "data": {
            "text/html": [
              "<div>\n",
              "<style scoped>\n",
              "    .dataframe tbody tr th:only-of-type {\n",
              "        vertical-align: middle;\n",
              "    }\n",
              "\n",
              "    .dataframe tbody tr th {\n",
              "        vertical-align: top;\n",
              "    }\n",
              "\n",
              "    .dataframe thead th {\n",
              "        text-align: right;\n",
              "    }\n",
              "</style>\n",
              "<table border=\"1\" class=\"dataframe\">\n",
              "  <thead>\n",
              "    <tr style=\"text-align: right;\">\n",
              "      <th></th>\n",
              "      <th>model</th>\n",
              "      <th>census</th>\n",
              "      <th>un</th>\n",
              "    </tr>\n",
              "  </thead>\n",
              "  <tbody>\n",
              "    <tr>\n",
              "      <th>1950</th>\n",
              "      <td>2.557629</td>\n",
              "      <td>2.557629</td>\n",
              "      <td>2.525149</td>\n",
              "    </tr>\n",
              "    <tr>\n",
              "      <th>1951</th>\n",
              "      <td>2.609795</td>\n",
              "      <td>2.594940</td>\n",
              "      <td>2.572851</td>\n",
              "    </tr>\n",
              "    <tr>\n",
              "      <th>1952</th>\n",
              "      <td>2.662780</td>\n",
              "      <td>2.636772</td>\n",
              "      <td>2.619292</td>\n",
              "    </tr>\n",
              "    <tr>\n",
              "      <th>1953</th>\n",
              "      <td>2.716587</td>\n",
              "      <td>2.682053</td>\n",
              "      <td>2.665865</td>\n",
              "    </tr>\n",
              "    <tr>\n",
              "      <th>1954</th>\n",
              "      <td>2.771217</td>\n",
              "      <td>2.730228</td>\n",
              "      <td>2.713172</td>\n",
              "    </tr>\n",
              "  </tbody>\n",
              "</table>\n",
              "</div>"
            ],
            "text/plain": [
              "         model    census        un\n",
              "1950  2.557629  2.557629  2.525149\n",
              "1951  2.609795  2.594940  2.572851\n",
              "1952  2.662780  2.636772  2.619292\n",
              "1953  2.716587  2.682053  2.665865\n",
              "1954  2.771217  2.730228  2.713172"
            ]
          },
          "metadata": {},
          "execution_count": 64
        }
      ]
    },
    {
      "cell_type": "code",
      "metadata": {
        "colab": {
          "base_uri": "https://localhost:8080/",
          "height": 499
        },
        "id": "LTbR9KNzQmho",
        "outputId": "0e08c4cc-11eb-46d7-818d-22f76f6f5927"
      },
      "source": [
        "import seaborn as sns\n",
        "import matplotlib.pyplot as plt\n",
        "\n",
        "plt.figure(figsize = (15,8))\n",
        "sns.set_style('darkgrid')\n",
        "p = sns.lineplot(data = data_combined).set(title=\"Quadratic Growth Model\")"
      ],
      "execution_count": null,
      "outputs": [
        {
          "output_type": "display_data",
          "data": {
            "image/png": "[encoded data removed]",
            "text/plain": [
              "<Figure size 1080x576 with 1 Axes>"
            ]
          },
          "metadata": {}
        }
      ]
    },
    {
      "cell_type": "code",
      "metadata": {
        "id": "RQdZP_1STjeI"
      },
      "source": [
        ""
      ],
      "execution_count": null,
      "outputs": []
    }
  ]
}