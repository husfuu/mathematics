{
 "cells": [
  {
   "cell_type": "code",
   "execution_count": 7,
   "id": "18206d4f",
   "metadata": {},
   "outputs": [],
   "source": [
    "import numpy as np"
   ]
  },
  {
   "cell_type": "code",
   "execution_count": 5,
   "id": "bf648418",
   "metadata": {},
   "outputs": [],
   "source": [
    "def state():\n",
    "    dSdt = A - a_0*S - beta*S*I - u_1*S\n",
    "    dIdt = beta*S*I - (b_0 + gamma)*I - u_2*I\n",
    "    dWdt = gamma*I - c_0*W + u_1*S + u_2 *I\n",
    "    \n",
    "    return [dSdt, dIdt, dWdt]"
   ]
  },
  {
   "cell_type": "code",
   "execution_count": 6,
   "id": "8107baa6",
   "metadata": {},
   "outputs": [],
   "source": [
    "def costate():\n",
    "    (lambda_S, lambda_I, lambda_W) = (0, 0, 0)\n",
    "    dHdS = -1*((-a_0*lambda_S) - (beta*I*lambda_S) - (u_1*lambda_S) + (beta*I*lambda_I) + (u_1*lambda_W))\n",
    "    \n",
    "    dHdI = -1*(1 - (beta*S*lambda_S) + (beta*S*lambda_I) - ((b_0 + gamma)*lambda_2) - (u_2*lambda_I) + (gamma*lambda_W) + u_2*lambda_W)\n",
    "    \n",
    "    dHdW = -1*(-c_0*lambda_W)\n",
    "    \n",
    "    return [dHdS, dHdI, dHdW]"
   ]
  },
  {
   "cell_type": "code",
   "execution_count": 4,
   "id": "af5c8acc",
   "metadata": {},
   "outputs": [],
   "source": [
    "# STATE\n",
    "def dSdt(S, I, A, a_0, beta, u_1):\n",
    "    return (A - a_0*S - beta*S*I - u_1*S)\n",
    "\n",
    "def dIdt(S, I, beta, gamma, b_0, u_2):\n",
    "    return (beta*S*I - (b_0 + gamma)*I - u_2*I)\n",
    "\n",
    "def dWdt(I, W, gamma, c_0, u_1, u_2):\n",
    "    return (gamma*I - c_0*W + u_1*S + u_2 *I)"
   ]
  },
  {
   "cell_type": "code",
   "execution_count": 5,
   "id": "f7b13c57",
   "metadata": {},
   "outputs": [],
   "source": [
    "# COSTATE\n",
    "def dHdS(lambda_S, lambda_I, lambda_W, a_0, beta, u_1):\n",
    "    return -1*((-a_0*lambda_S) - (beta*I*lambda_S) - (u_1*lambda_S) + (beta*I*lambda_I) + (u_1*lambda_W))\n",
    "\n",
    "def dHdI(lambda_S, lambda_I, lambda_W, S, b_0, beta, gamma, u_2):\n",
    "    return (-1*(1 - (beta*S*lambda_S) + (beta*S*lambda_I) - ((b_0 + gamma)*lambda_I) - (u_2*lambda_I) + (gamma*lambda_W) + u_2*lambda_W))\n",
    "\n",
    "def dHdW(lambda_W, c_0):\n",
    "    return (-1*(-c_0*lambda_W))"
   ]
  },
  {
   "cell_type": "code",
   "execution_count": 6,
   "id": "1378323d",
   "metadata": {},
   "outputs": [],
   "source": [
    "def update_u_1(u_1):\n",
    "    if (u <= 0):\n",
    "        return 0\n",
    "    elif ((u > 0) or (u < 1)):\n",
    "        return ((lambda_I - lambda_W)*I / M_2)\n",
    "    else:\n",
    "        return 1\n",
    "\n",
    "def update_u_2(u_2):\n",
    "    if (u <= 0):\n",
    "        return 0\n",
    "    elif ((0 < u) or ()):\n",
    "        return ((lambda_I - lambda_W)*I / M_2)\n",
    "    else:\n",
    "        return 1"
   ]
  },
  {
   "cell_type": "code",
   "execution_count": 16,
   "id": "b48f2bdb",
   "metadata": {},
   "outputs": [],
   "source": [
    "# initial values\n",
    "h = 0.5 # step size, in this case step size of time\n",
    "t = 200 # time obs\n",
    "N = int(t/h)\n",
    "\n",
    "S0 = 150\n",
    "I0 = 9\n",
    "W0 = 2\n",
    "\n",
    "# params\n",
    "A = 1.5\n",
    "a_0 = 0.01 # death rate of Suspectible (S)\n",
    "b_0 = 0.003 # death rate of Infected (I)\n",
    "c_0 = 0.03 # death rate of Immune (W)\n",
    "\n",
    "beta1 = 0.0002\n",
    "beta2 = 0.0003 \n",
    "beta3 = 0.0004 # infection rate\n",
    "gamma = 0.0001 # individual recover rate\n",
    "\n",
    "tes = 1;\n",
    "\n",
    "S = np.zeros(N); S_prev = np.zeros(N)\n",
    "I = np.zeros(N); I_prev = np.zeros(N)\n",
    "W = np.zeros(N); W_prev = np.zeros(N)\n",
    "\n",
    "S[0], I[0], W[0] = S0, I0, W0\n",
    "\n",
    "lambda_S = np.zeros(N); lambda_S_prev = np.zeros(N)\n",
    "lambda_I = np.zeros(N); lambda_I_prev = np.zeros(N)\n",
    "lambda_W = np.zeros(N); lambda_W_prev = np.zeros(N)\n",
    "\n",
    "lambda_S[N-1], lambda_I[N-1], lambda_W[N-1] = 0, 0, 0\n",
    "\n",
    "# lambda_S[N] = \n",
    "u_1 = np.zeros(N); u_1_prev = np.zeros(N)\n",
    "u_2 = np.zeros(N); u_2_prev = np.zeros(N)"
   ]
  },
  {
   "cell_type": "code",
   "execution_count": 1,
   "id": "c9ab7363",
   "metadata": {},
   "outputs": [],
   "source": [
    "def runge_kutta(S0, I0, W0, N, h, beta):\n",
    "    pass"
   ]
  },
  {
   "cell_type": "code",
   "execution_count": 17,
   "id": "a20b3b57",
   "metadata": {},
   "outputs": [
    {
     "ename": "NameError",
     "evalue": "name 'beta' is not defined",
     "output_type": "error",
     "traceback": [
      "\u001b[0;31m---------------------------------------------------------------------------\u001b[0m",
      "\u001b[0;31mNameError\u001b[0m                                 Traceback (most recent call last)",
      "Input \u001b[0;32mIn [17]\u001b[0m, in \u001b[0;36m<cell line: 4>\u001b[0;34m()\u001b[0m\n\u001b[1;32m     11\u001b[0m \u001b[38;5;66;03m# forward\u001b[39;00m\n\u001b[1;32m     12\u001b[0m \u001b[38;5;28;01mfor\u001b[39;00m i \u001b[38;5;129;01min\u001b[39;00m \u001b[38;5;28mrange\u001b[39m(N\u001b[38;5;241m-\u001b[39m\u001b[38;5;241m1\u001b[39m):\n\u001b[0;32m---> 13\u001b[0m     k_1 \u001b[38;5;241m=\u001b[39m dSdt(S[i], I[i], A, a_0, \u001b[43mbeta\u001b[49m, u_1)\n\u001b[1;32m     14\u001b[0m     l_1 \u001b[38;5;241m=\u001b[39m dIdt(S[i], I[i], beta, gamma, b_0)\n\u001b[1;32m     15\u001b[0m     m_1 \u001b[38;5;241m=\u001b[39m dWdt(I[i], W[i], gamma, c_0)\n",
      "\u001b[0;31mNameError\u001b[0m: name 'beta' is not defined"
     ]
    }
   ],
   "source": [
    "S = I = W = np.zeros(N)\n",
    "\n",
    "tes = 1\n",
    "while tes > 1e-3:\n",
    "    \n",
    "    S_prev = S; I_prev = I; W_prev = W;\n",
    "    lambda_S_prev = lambda_S; lambda_I_prev = lambda_I; lambda_W_prev = lambda_W;\n",
    "    u_1_prev = u_1; u_2_prev = u_2;\n",
    "    \n",
    "    S[0] = S0; I[0] = I0; W[0] = W0;\n",
    "    \n",
    "    \n",
    "    # forward\n",
    "    for i in range(N-1):\n",
    "        k_1 = dSdt(S[i], I[i], A, a_0, beta, u_1)\n",
    "        l_1 = dIdt(S[i], I[i], beta, gamma, b_0)\n",
    "        m_1 = dWdt(I[i], W[i], gamma, c_0)\n",
    "\n",
    "        k_2 = dSdt(S[i] + k_1*(h/2), I[i] + l_1*(h/2), A, a_0, beta, u_1)\n",
    "        l_2 = dIdt(S[i] + k_1*(h/2), I[i] + l_1*(h/2), beta, gamma, b_0, u_2)\n",
    "        m_2 = dWdt(I[i] + l_1*(h/2), W[i] + m_1*(h/2), gamma, c_0, u_1, u_2)\n",
    "\n",
    "        k_3 = dSdt(S[i] + k_2*(h/2), I[i] + l_2*(h/2), A, a_0, beta, u_1)\n",
    "        l_3 = dIdt(S[i] + k_2*(h/2), I[i] + l_2*(h/2), beta, gamma, b_0, u_2)\n",
    "        m_3 = dWdt(I[i] + l_2*(h/2), W[i] + m_2*(h/2), gamma, c_0, u_1, u_2)\n",
    "\n",
    "        k_4 = dSdt(S[i] + k_3*h, I[i] + l_3*h, A, a_0, beta, u_1)\n",
    "        l_4 = dIdt(S[i] + k_3*h, I[i] + l_3*h, beta, gamma, b_0, u_2)\n",
    "        m_4 = dWdt(I[i] + l_3*h, W[i] + m_3*h, gamma, c_0, u_1, u_2)\n",
    "\n",
    "        # update value of state variable\n",
    "        S[i+1] = S[i] + 1/6 * (k_1 + 2*k_2 + 2*k_3 + k_4)*h \n",
    "        I[i+1] = I[i] + 1/6 * (l_1 + 2*l_2 + 2*l_3 + l_4)*h\n",
    "        W[i+1] = W[i] + 1/6 * (m_1 + 2*m_2 + 2*m_3 + m_4)*h\n",
    "    \n",
    "    lambda_S[N-1], lambda_I[N-1], lambda_W[N-1] = 0, 0, 0\n",
    "    u_1[0] = 0; u_2[0] = 0;\n",
    "    \n",
    "    # backward \n",
    "    for i in reversed(range(N+1)):\n",
    "        k_1 = dHdS(lambda_S[i], lambda_I[i], lambda_W[i], a_0, beta, u_1)\n",
    "        l_1 = dHdI(lambda_S[i], lambda_I[i], lambda_W[i], S[i], b_0, beta, gamma, u_2)\n",
    "        m_1 = dHdW(lambda_W[i], c_0)\n",
    "\n",
    "        k_2 = dHdS(lambda_S[i] - (k_1/2), lambda_I[i] - (k_1/2), a_0, beta, u_1)\n",
    "        l_2 = dHdI(lambda_S[i] - (k_1/2), lambda_I[i] - (k_1/2), S[i], b_0, beta, gamma, u_2)\n",
    "        m_2 = dHdW(lambda_W[i], c_0)\n",
    "\n",
    "        k_3 = dHdS(lambda_S[i] - (k_2/2), lambda_I[i] - (k_2/2), a_0, beta, u_1)\n",
    "        l_3 = dHdI(lambda_S[i] - (k_2/2), lambda_I[i] - (k_2/2), S[i], b_0, beta, gamma, u_2)\n",
    "        m_3 = dHdW(lambda_W[i] - (l_2/2), c_0)\n",
    "\n",
    "        k_4 = dHdS(lambda_S[i] - (k_3), lambda_I[i] - (k_3), a_0, beta, u_1)\n",
    "        l_4 = dHdI(lambda_S[i] - (k_3), lambda_I[i] - (k_3), S[i], b_0, beta, gamma, u_2)\n",
    "        m_4 = dHdW(lambda_W[i] - (l_3), c_0)\n",
    "\n",
    "        # update u_1 and u_2\n",
    "        u_1 = update_u_1()\n",
    "        u_2 = update_u_2()\n",
    "\n",
    "        # update lambdas\n",
    "        lambda_S[i+1] = lambda_S[i] - 1/6 * (k_1 + 2*k_2 + 2*k_3 + k_4)\n",
    "        lambda_I[i+1] = lambda_I[i] - 1/6 * (k_1 + 2*k_2 + 2*k_3 + k_4)\n",
    "        lambda_W[i+1] = lambda_W[i] - 1/6 * (k_1 + 2*k_2 + 2*k_3 + k_4)"
   ]
  },
  {
   "cell_type": "code",
   "execution_count": null,
   "id": "35279ea5",
   "metadata": {},
   "outputs": [],
   "source": []
  }
 ],
 "metadata": {
  "kernelspec": {
   "display_name": "Python 3 (ipykernel)",
   "language": "python",
   "name": "python3"
  },
  "language_info": {
   "codemirror_mode": {
    "name": "ipython",
    "version": 3
   },
   "file_extension": ".py",
   "mimetype": "text/x-python",
   "name": "python",
   "nbconvert_exporter": "python",
   "pygments_lexer": "ipython3",
   "version": "3.8.10"
  }
 },
 "nbformat": 4,
 "nbformat_minor": 5
}
