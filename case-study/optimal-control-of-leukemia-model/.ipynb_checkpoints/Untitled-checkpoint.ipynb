{
 "cells": [
  {
   "cell_type": "code",
   "execution_count": 6,
   "id": "7cce9f0b",
   "metadata": {},
   "outputs": [],
   "source": [
    "import numpy as np\n",
    "import matplotlib.pyplot as plt\n",
    "import seaborn as sns"
   ]
  },
  {
   "cell_type": "markdown",
   "id": "65c53df9",
   "metadata": {},
   "source": [
    "# Subpopulation Growth Rate"
   ]
  },
  {
   "cell_type": "markdown",
   "id": "f30c9e40",
   "metadata": {},
   "source": [
    "$$ \\frac{dS}{dt} = A - a_{0}S - \\beta S I $$\n",
    "\n",
    "$$ \\frac{dI}{dt} = \\beta S I - (b_{0} + \\gamma)I $$\n",
    "\n",
    "$$ \\frac{dW}{dt} = \\gamma I - c_{0} W $$\n"
   ]
  },
  {
   "cell_type": "markdown",
   "id": "b1732f7a",
   "metadata": {},
   "source": [
    "**Numerical solution of SIR model for Leukemia by fourth order Runge-Kutta Method**\n",
    "$$ S_{r+1} = S_{r} + \\frac{1}{6} (k_{1} + 2k_{2} + 2k_{3} + k_{4}) h$$\n",
    "\n",
    "$$ I_{r+1} = I_{r} + \\frac{1}{6} (l_{1} + 2l_{2} + 2l_{3} + l_{4}) h$$\n",
    "\n",
    "$$ W_{r+1} = W_{r} + \\frac{1}{6} (w_{1} + 2w_{2} + 2w_{3} + w_{4}) h$$\n",
    "\n",
    "with is the step of time\n",
    "\n",
    "$$ k_{1} = A - a_0 S_{r} - \\beta S I $$\n",
    "\n",
    "$$ k_{2} = A - a_0 (S_{r} + k_1 \\frac{h}{2}) - \\beta (S_r + k_1 \\frac{h}{2}) (I_r + I_1 \\frac{h}{2})  $$\n",
    "\n",
    "$$ k_{3} = A - a_0 (S_{r} + k_2 \\frac{h}{2}) - \\beta (S_r + k_2 \\frac{h}{2}) (I_r + I_2 \\frac{h}{2})  $$\n",
    "\n",
    "$$ k_{4} = A - a_0 (S_{r} + k_3 h) - \\beta (S_r + k_3 h) (I_r + I_3 h)  $$\n",
    "\n",
    "<br><br><br>\n",
    "$$ l_{1} = \\beta S_r I_r - (b_0 + \\gamma) I_r $$\n",
    "\n",
    "$$ l_{2} = \\beta (S_r + k_1 \\frac{h}{2}) (I_r + l_1 \\frac{h}{2}) - (b_0 + \\gamma) (I_r + l_1 \\frac{h}{2}) $$\n",
    "\n",
    "$$ l_{3} = \\beta (S_r + k_2 \\frac{h}{2}) (I_r + l_2 \\frac{h}{2}) - (b_0 + \\gamma) (I_r + l_2 \\frac{h}{2})  $$\n",
    "\n",
    "$$ l_{4} = \\beta (S_r + k_3 h) (I_r + l_3 h) - (b_0 + \\gamma) (I_r + l_3 h)  $$\n",
    "\n",
    "<br><br><br>\n",
    "$$ m_{1} = \\gamma I_{r} - c_0 W_r $$\n",
    "\n",
    "$$ m_{2} = \\gamma (I_{r}+l_1 \\frac{h}{2}) - c_0 (W_r + m_{1}\\frac{h}{2}) $$\n",
    "\n",
    "$$ m_{3} = \\gamma (I_{r}+l_2 \\frac{h}{2}) - c_0 (W_r + m_{2}\\frac{h}{2}) $$\n",
    "\n",
    "$$ m_{4} = \\gamma (I_{r}+l_{3} h) - c_0 (W_r + m_{3}h) $$"
   ]
  },
  {
   "cell_type": "code",
   "execution_count": 3,
   "id": "37340564",
   "metadata": {},
   "outputs": [],
   "source": [
    "def dSdt(S, I, A, a_0, beta):\n",
    "    return (A - a_0*S - beta*S*I)\n",
    "\n",
    "def dIdt(S, I, beta, gamma, b_0):\n",
    "    return (beta*S*I - (b_0 + gamma)*I)\n",
    "\n",
    "def dWdt(I, W, gamma, c_0):\n",
    "    return (gamma*I - c_0*W)"
   ]
  },
  {
   "cell_type": "code",
   "execution_count": null,
   "id": "841d8e2c",
   "metadata": {},
   "outputs": [],
   "source": [
    "def updateValueState():\n",
    "    pass"
   ]
  },
  {
   "cell_type": "code",
   "execution_count": 57,
   "id": "09104946",
   "metadata": {},
   "outputs": [],
   "source": [
    "def runge_kutta(S0, I0, W0, N, h, beta):\n",
    "    # N = len(x)\n",
    "    S = np.zeros(N)\n",
    "    I = np.zeros(N)\n",
    "    W = np.zeros(N)\n",
    "    \n",
    "    S[0] = S0\n",
    "    I[0] = I0\n",
    "    W[0] = W0\n",
    "    \n",
    "    for i in range(N-1):\n",
    "        \n",
    "        k_1 = dSdt(S[i], I[i], A, a_0, beta)\n",
    "        l_1 = dIdt(S[i], I[i], beta, gamma, b_0)\n",
    "        m_1 = dWdt(I[i], W[i], gamma, c_0)\n",
    "        \n",
    "        k_2 = dSdt(S[i] + k_1*(h/2), I[i] + l_1*(h/2), A, a_0, beta)\n",
    "        l_2 = dIdt(S[i] + k_1*(h/2), I[i] + l_1*(h/2), beta, gamma, b_0)\n",
    "        m_2 = dWdt(I[i] + l_1*(h/2), W[i] + m_1*(h/2), gamma, c_0)\n",
    "        \n",
    "        k_3 = dSdt(S[i] + k_2*(h/2), I[i] + l_2*(h/2), A, a_0, beta)\n",
    "        l_3 = dIdt(S[i] + k_2*(h/2), I[i] + l_2*(h/2), beta, gamma, b_0)\n",
    "        m_3 = dWdt(I[i] + l_2*(h/2), W[i] + m_2*(h/2), gamma, c_0)\n",
    "        \n",
    "        k_4 = dSdt(S[i] + k_3*h, I[i] + l_3*h, A, a_0, beta)\n",
    "        l_4 = dIdt(S[i] + k_3*h, I[i] + l_3*h, beta, gamma, b_0)\n",
    "        m_4 = dWdt(I[i] + l_3*h, W[i] + m_3*h, gamma, c_0)\n",
    "        \n",
    "        # update value of state variable\n",
    "        S[i+1] = S[i] + 1/6 * (k_1 + 2*k_2 + 2*k_3 + k_4)*h \n",
    "        I[i+1] = I[i] + 1/6 * (l_1 + 2*l_2 + 2*l_3 + l_4)*h\n",
    "        W[i+1] = W[i] + 1/6 * (m_1 + 2*m_2 + 2*m_3 + m_4)*h\n",
    "    \n",
    "    return (S, I, W)"
   ]
  },
  {
   "cell_type": "code",
   "execution_count": 56,
   "id": "296e7048",
   "metadata": {},
   "outputs": [],
   "source": [
    "h = 0.5 # step size, in this case step size of time\n",
    "t = 200 # time obs\n",
    "N = int(t/h)\n",
    "\n",
    "S0 = 150\n",
    "I0 = 9\n",
    "W0 = 2\n",
    "\n",
    "# params\n",
    "A = 1.5\n",
    "a_0 = 0.01 # death rate of Suspectible (S)\n",
    "b_0 = 0.003 # death rate of Infected (I)\n",
    "c_0 = 0.03 # death rate of Immune (W)\n",
    "\n",
    "beta1 = 0.0002\n",
    "beta2 = 0.0003 \n",
    "beta3 = 0.0004 # infection rate\n",
    "gamma = 0.0001 # individual recover rate"
   ]
  },
  {
   "cell_type": "code",
   "execution_count": 58,
   "id": "3e8635bf",
   "metadata": {},
   "outputs": [],
   "source": [
    "resS, resI, resW = runge_kutta(S0, I0, W0, N, h, beta1)"
   ]
  },
  {
   "cell_type": "code",
   "execution_count": 59,
   "id": "b96d60cd",
   "metadata": {},
   "outputs": [],
   "source": [
    "time = np.arange(0, 200, h)"
   ]
  },
  {
   "cell_type": "code",
   "execution_count": 60,
   "id": "dddd114f",
   "metadata": {},
   "outputs": [
    {
     "data": {
      "text/plain": [
       "[<matplotlib.lines.Line2D at 0x7fbad47535b0>]"
      ]
     },
     "execution_count": 60,
     "metadata": {},
     "output_type": "execute_result"
    },
    {
     "data": {
      "image/png": "[encoded data removed]",
      "text/plain": [
       "<Figure size 432x288 with 1 Axes>"
      ]
     },
     "metadata": {
      "needs_background": "light"
     },
     "output_type": "display_data"
    }
   ],
   "source": [
    "plt.plot(time, resS)"
   ]
  },
  {
   "cell_type": "code",
   "execution_count": 66,
   "id": "d68c1f45",
   "metadata": {},
   "outputs": [],
   "source": [
    "resS, resI, resW = runge_kutta(S0, I0, W0, N, h, beta2)"
   ]
  },
  {
   "cell_type": "code",
   "execution_count": 62,
   "id": "03474ad7",
   "metadata": {},
   "outputs": [
    {
     "data": {
      "text/plain": [
       "[<matplotlib.lines.Line2D at 0x7fbad46bc6a0>]"
      ]
     },
     "execution_count": 62,
     "metadata": {},
     "output_type": "execute_result"
    },
    {
     "data": {
      "image/png": "[encoded data removed]",
      "text/plain": [
       "<Figure size 432x288 with 1 Axes>"
      ]
     },
     "metadata": {
      "needs_background": "light"
     },
     "output_type": "display_data"
    }
   ],
   "source": [
    "plt.plot(time, resS)"
   ]
  },
  {
   "cell_type": "code",
   "execution_count": 63,
   "id": "4a16211a",
   "metadata": {},
   "outputs": [],
   "source": [
    "resS, resI, resW = runge_kutta(S0, I0, W0, N, h, beta3)"
   ]
  },
  {
   "cell_type": "code",
   "execution_count": 64,
   "id": "44450686",
   "metadata": {},
   "outputs": [
    {
     "data": {
      "text/plain": [
       "[<matplotlib.lines.Line2D at 0x7fbad4621ee0>]"
      ]
     },
     "execution_count": 64,
     "metadata": {},
     "output_type": "execute_result"
    },
    {
     "data": {
      "image/png": "[encoded data removed]",
      "text/plain": [
       "<Figure size 432x288 with 1 Axes>"
      ]
     },
     "metadata": {
      "needs_background": "light"
     },
     "output_type": "display_data"
    }
   ],
   "source": [
    "plt.plot(time, resS)"
   ]
  },
  {
   "cell_type": "code",
   "execution_count": 67,
   "id": "90bc575c",
   "metadata": {},
   "outputs": [
    {
     "data": {
      "text/plain": [
       "[<matplotlib.lines.Line2D at 0x7fbad457a7c0>]"
      ]
     },
     "execution_count": 67,
     "metadata": {},
     "output_type": "execute_result"
    },
    {
     "data": {
      "image/png": "[encoded data removed]",
      "text/plain": [
       "<Figure size 432x288 with 1 Axes>"
      ]
     },
     "metadata": {
      "needs_background": "light"
     },
     "output_type": "display_data"
    }
   ],
   "source": [
    "plt.plot(time, resI)"
   ]
  },
  {
   "cell_type": "code",
   "execution_count": null,
   "id": "ba0197f4",
   "metadata": {},
   "outputs": [],
   "source": []
  }
 ],
 "metadata": {
  "kernelspec": {
   "display_name": "Python 3 (ipykernel)",
   "language": "python",
   "name": "python3"
  },
  "language_info": {
   "codemirror_mode": {
    "name": "ipython",
    "version": 3
   },
   "file_extension": ".py",
   "mimetype": "text/x-python",
   "name": "python",
   "nbconvert_exporter": "python",
   "pygments_lexer": "ipython3",
   "version": "3.8.10"
  }
 },
 "nbformat": 4,
 "nbformat_minor": 5
}
