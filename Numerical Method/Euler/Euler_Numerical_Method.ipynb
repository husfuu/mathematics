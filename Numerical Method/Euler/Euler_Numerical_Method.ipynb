{
  "nbformat": 4,
  "nbformat_minor": 0,
  "metadata": {
    "colab": {
      "name": "Euler Numerical Method.ipynb",
      "provenance": [],
      "collapsed_sections": [],
      "authorship_tag": "ABX9TyNxfyWsekqyQmHGgWYltRrN",
      "include_colab_link": true
    },
    "kernelspec": {
      "name": "python3",
      "display_name": "Python 3"
    },
    "language_info": {
      "name": "python"
    }
  },
  "cells": [
    {
      "cell_type": "markdown",
      "metadata": {
        "id": "view-in-github",
        "colab_type": "text"
      },
      "source": [
        "<a href=\"https://colab.research.google.com/github/husfuu/Mathematical-Modelling/blob/main/Numerical%20Method/Euler/Euler_Numerical_Method.ipynb\" target=\"_parent\"><img src=\"https://colab.research.google.com/assets/colab-badge.svg\" alt=\"Open In Colab\"/></a>"
      ]
    },
    {
      "cell_type": "code",
      "metadata": {
        "id": "zb_Ue6p35-xp"
      },
      "source": [
        "import numpy as np\n",
        "import matplotlib.pyplot as plt"
      ],
      "execution_count": 1,
      "outputs": []
    },
    {
      "cell_type": "code",
      "metadata": {
        "id": "a1diJ8Qzj93n"
      },
      "source": [
        "def analytic(r, t, K, P0):\n",
        "  \"\"\"\n",
        "  return: array of number that represent the results of analytics\n",
        "  \"\"\"\n",
        "  N = len(t)\n",
        "  P_analytics = np.array([])\n",
        "  for i in range(N):\n",
        "    P_i_analytic = K * P0 * np.exp(r*t[i]) / (K+P0*(np.exp(r*t[i])-1))\n",
        "    P_analytics = np.append(P_analytics, P_i_analytic)\n",
        "  return P_analytics"
      ],
      "execution_count": 2,
      "outputs": []
    },
    {
      "cell_type": "code",
      "metadata": {
        "id": "fG7-kEE17KLg"
      },
      "source": [
        "def fun(t, P):\n",
        "  return r * P * (1-(P/K))\n",
        "\n",
        "def euler(r, K, t, dt, P0, fun):\n",
        "  \"\"\"\n",
        "  return: array of number that represent the results of euler method\n",
        "  \"\"\"\n",
        "  N = len(t)\n",
        "  P = np.zeros(N)\n",
        "  P[0] = P0\n",
        "  for j in range(N-1):\n",
        "    P[j+1] = P[j] + dt * fun(t[j], P[j])\n",
        "  return P"
      ],
      "execution_count": 3,
      "outputs": []
    },
    {
      "cell_type": "markdown",
      "metadata": {
        "id": "S4lEtGJ1vEZl"
      },
      "source": [
        "#### Testing on $N = 10$"
      ]
    },
    {
      "cell_type": "code",
      "metadata": {
        "colab": {
          "base_uri": "https://localhost:8080/"
        },
        "id": "3QJgzpr19azu",
        "outputId": "4d82e875-cd38-42b1-b4ee-71e534bbc488"
      },
      "source": [
        "# parameters value fot the testing\n",
        "r = 0.1927\n",
        "P0 = 0.2170\n",
        "K = 71954.6\n",
        "a = 0\n",
        "b = 5\n",
        "N = 10\n",
        "t = np.linspace(a, b, N)\n",
        "dt = (b-a) / N \n",
        "\n",
        "# result from analytics\n",
        "result_analytic = analytic(r, t, K, P0)\n",
        "# result from euler\n",
        "result_numeric = euler(r, K, t, dt, P0, fun)\n",
        "\n",
        "for i in range(N):\n",
        "  print(f'untuk t = {round(t[i], 3)} maka numerik P = {round(result_numeric[i], 3)}, analitik P = {round(result_analytic[i], 3)}, error = {round(abs(result_numeric[i] - result_analytic[i]), 3)}')\n",
        "\n"
      ],
      "execution_count": 4,
      "outputs": [
        {
          "output_type": "stream",
          "name": "stdout",
          "text": [
            "untuk t = 0.0 maka numerik P = 0.217, analitik P = 0.217, error = 0.0\n",
            "untuk t = 0.556 maka numerik P = 0.238, analitik P = 0.242, error = 0.004\n",
            "untuk t = 1.111 maka numerik P = 0.261, analitik P = 0.269, error = 0.008\n",
            "untuk t = 1.667 maka numerik P = 0.286, analitik P = 0.299, error = 0.013\n",
            "untuk t = 2.222 maka numerik P = 0.314, analitik P = 0.333, error = 0.019\n",
            "untuk t = 2.778 maka numerik P = 0.344, analitik P = 0.371, error = 0.027\n",
            "untuk t = 3.333 maka numerik P = 0.377, analitik P = 0.412, error = 0.036\n",
            "untuk t = 3.889 maka numerik P = 0.413, analitik P = 0.459, error = 0.046\n",
            "untuk t = 4.444 maka numerik P = 0.453, analitik P = 0.511, error = 0.058\n",
            "untuk t = 5.0 maka numerik P = 0.497, analitik P = 0.569, error = 0.072\n"
          ]
        }
      ]
    },
    {
      "cell_type": "markdown",
      "metadata": {
        "id": "gBxvJjSLB_VZ"
      },
      "source": [
        "### Numeric and Analytics Comparison  Plot "
      ]
    },
    {
      "cell_type": "code",
      "metadata": {
        "colab": {
          "base_uri": "https://localhost:8080/",
          "height": 269
        },
        "id": "0Utjf49oCGMo",
        "outputId": "09cc6d34-d60e-4abb-fb4e-9c4d42f8f241"
      },
      "source": [
        "N = 100\n",
        "t = np.linspace(a, b, N)\n",
        "y_numeric = euler(r, K, t, dt, P0, fun)\n",
        "y_analytic = analytic(r, t, K, P0)\n",
        "\n",
        "plt.plot(t, y_numeric, label=\"Numeric\")\n",
        "plt.plot(t, y_analytic, label = \"Analytic\")\n",
        "plt.legend()\n",
        "\n",
        "plt.show()"
      ],
      "execution_count": 5,
      "outputs": [
        {
          "output_type": "display_data",
          "data": {
            "image/png": "[encoded data removed]",
            "text/plain": [
              "<Figure size 432x288 with 1 Axes>"
            ]
          },
          "metadata": {
            "needs_background": "light"
          }
        }
      ]
    },
    {
      "cell_type": "code",
      "metadata": {
        "colab": {
          "base_uri": "https://localhost:8080/",
          "height": 377
        },
        "id": "orhXCHVhpZyb",
        "outputId": "b9526c2a-d31c-4b60-fb89-2119f1dd5319"
      },
      "source": [
        "t10 = np.linspace(a, b, 10)\n",
        "t100 = np.linspace(a, b, 100)\n",
        "y_numeric10 = euler(r, K, t10, dt, P0, fun)\n",
        "y_numeric100 = euler(r, K, t100, dt, P0, fun)\n",
        "y_analytic100 = analytic(r, t100, K, P0)\n",
        "\n",
        "plt.figure(figsize=(8, 6))\n",
        "plt.plot(t10, y_numeric10, '-o', label=\"Numeric-10\")\n",
        "plt.plot(t100, y_numeric100, label=\"Numeric-100\")\n",
        "plt.plot(t100, y_analytic100, label = \"Analytic\")\n",
        "\n",
        "plt.legend()\n",
        "plt.show()"
      ],
      "execution_count": 6,
      "outputs": [
        {
          "output_type": "display_data",
          "data": {
            "image/png": "[encoded data removed]",
            "text/plain": [
              "<Figure size 576x432 with 1 Axes>"
            ]
          },
          "metadata": {
            "needs_background": "light"
          }
        }
      ]
    },
    {
      "cell_type": "markdown",
      "metadata": {
        "id": "UUWT_oEbuAFt"
      },
      "source": [
        "### Errors Comparison in Numeric Plot "
      ]
    },
    {
      "cell_type": "code",
      "metadata": {
        "id": "fd5V1BbsDWQF",
        "colab": {
          "base_uri": "https://localhost:8080/",
          "height": 377
        },
        "outputId": "b1d3f58b-f90a-45cf-b2f3-82d55b81efdb"
      },
      "source": [
        "t50 = np.linspace(a, b, 50)\n",
        "y_numeric50 = euler(r, K, t50, dt, P0, fun)\n",
        "y_analytic50 = analytic(r, t50, K, P0)\n",
        "y_analytic10 = analytic(r, t10, K, P0)\n",
        "\n",
        "plt.figure(figsize=(8, 6))\n",
        "plt.plot(t100, abs(y_numeric100 - y_analytic100), label=\"Error Numeric (N=100)\")\n",
        "plt.plot(t50, abs(y_numeric50 - y_analytic50), label=\"Error Numeric (N=50)\")\n",
        "plt.plot(t10, abs(y_numeric10 - y_analytic10), label=\"Error Numeric (N=10)\")\n",
        "\n",
        "plt.legend()\n",
        "plt.show()"
      ],
      "execution_count": 7,
      "outputs": [
        {
          "output_type": "display_data",
          "data": {
            "image/png": "[encoded data removed]",
            "text/plain": [
              "<Figure size 576x432 with 1 Axes>"
            ]
          },
          "metadata": {
            "needs_background": "light"
          }
        }
      ]
    },
    {
      "cell_type": "code",
      "metadata": {
        "id": "g6YTMlulsvbo"
      },
      "source": [
        ""
      ],
      "execution_count": 7,
      "outputs": []
    }
  ]
}