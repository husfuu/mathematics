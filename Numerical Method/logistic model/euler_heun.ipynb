{
  "nbformat": 4,
  "nbformat_minor": 0,
  "metadata": {
    "colab": {
      "name": "Logistic_model.ipynb",
      "provenance": [],
      "collapsed_sections": [],
      "authorship_tag": "ABX9TyO7qQss1WxlcprR5M1LO3wS",
      "include_colab_link": true
    },
    "kernelspec": {
      "name": "python3",
      "display_name": "Python 3"
    },
    "language_info": {
      "name": "python"
    }
  },
  "cells": [
    {
      "cell_type": "markdown",
      "metadata": {
        "id": "view-in-github",
        "colab_type": "text"
      },
      "source": [
        "<a href=\"https://colab.research.google.com/github/husfuu/Mathematical-Modelling/blob/main/Numerical%20Method/logistic%20model/euler_heun.ipynb\" target=\"_parent\"><img src=\"https://colab.research.google.com/assets/colab-badge.svg\" alt=\"Open In Colab\"/></a>"
      ]
    },
    {
      "cell_type": "code",
      "metadata": {
        "id": "T81DTyy4zxyY"
      },
      "source": [
        "import numpy as np\n",
        "import matplotlib.pyplot as plt"
      ],
      "execution_count": 1,
      "outputs": []
    },
    {
      "cell_type": "markdown",
      "metadata": {
        "id": "suiQYrNXvfwU"
      },
      "source": [
        "## Model"
      ]
    },
    {
      "cell_type": "markdown",
      "metadata": {
        "id": "w5u2qGQ9wPOU"
      },
      "source": [
        "The differential equation below is logistic model:\n",
        "$$ \\frac{dN(t)}{dt} = N(t)(a-bN(t)), \\text{dengan } N(0) = N_0 $$ "
      ]
    },
    {
      "cell_type": "code",
      "metadata": {
        "id": "ToFkVHULuI0s"
      },
      "source": [
        "def dndt(t_k, N_k):\n",
        "  return N_k*(a-b*N_k)"
      ],
      "execution_count": 31,
      "outputs": []
    },
    {
      "cell_type": "markdown",
      "metadata": {
        "id": "YoUArkBXwZsD"
      },
      "source": [
        "## Analytic Solution"
      ]
    },
    {
      "cell_type": "markdown",
      "metadata": {
        "id": "I8V5KbDZ3cHr"
      },
      "source": [
        "Exact analytical solution:\n",
        "$$ N(t) = \\frac{a N_0}{(a-N_0 b) e^{-a(t-t_0)} + bN_0 }$$"
      ]
    },
    {
      "cell_type": "code",
      "metadata": {
        "id": "M7uj8aoavY1w"
      },
      "source": [
        "def Nt_analytic(a, b, N0, t):\n",
        "  \"\"\"\n",
        "  a: float, rate of\n",
        "  b: float, rate of \n",
        "  N0: float, total population at t=0\n",
        "  t: array of number, each number represent observation time\n",
        "  return: array of number that represent exact solutions\n",
        "  \"\"\"\n",
        "  total = len(t)\n",
        "  N_analytics = np.array([])\n",
        "  t0 = t[0]\n",
        "  \n",
        "  for i in range(total):\n",
        "    N_analytic_i = a*N0 / ( (a-N0*b)*np.exp(-a*(t[i]-t0)) + b*N0)\n",
        "    N_analytics = np.append(N_analytics, N_analytic_i)\n",
        "\n",
        "  return N_analytics"
      ],
      "execution_count": 4,
      "outputs": []
    },
    {
      "cell_type": "markdown",
      "metadata": {
        "id": "iCg0MXQL1xET"
      },
      "source": [
        "## Euler's Method"
      ]
    },
    {
      "cell_type": "markdown",
      "metadata": {
        "id": "KDoPJK7JdNW8"
      },
      "source": [
        "$$ N_{k+1} = N_k + \\Delta t (aN_k - b (N_k)^2 $$"
      ]
    },
    {
      "cell_type": "code",
      "metadata": {
        "id": "mVGmjPHv1oFa"
      },
      "source": [
        "def euler(a, b, delta_t, N0, t):\n",
        "  \"\"\"\n",
        "  \"\"\"\n",
        "  total = len(t)\n",
        "  N_euler = np.zeros(total)\n",
        "  N_euler[0] = N0\n",
        "  for i in range(total-1):\n",
        "    N_euler[i+1] = N_euler[i] + delta_t * (a*N_euler[i] - b*N_euler[i]**2)\n",
        "  \n",
        "  return N_euler"
      ],
      "execution_count": 18,
      "outputs": []
    },
    {
      "cell_type": "markdown",
      "metadata": {
        "id": "ETCe9FJVdEiT"
      },
      "source": [
        "## Heun Method"
      ]
    },
    {
      "cell_type": "markdown",
      "metadata": {
        "id": "jZoHz_ktaq0T"
      },
      "source": [
        "$$ \\tilde{N}_{k+1} = N_k + \\Delta t (aN_k - b(N_k)^2) $$\n",
        "\n",
        "\n",
        "\n",
        "$$ N_{k+1} = \\frac{\\Delta t}{2} [(aN_k) + f(t_{k+1}, \\tilde{N}_{k+1})] $$"
      ]
    },
    {
      "cell_type": "code",
      "metadata": {
        "id": "z8p1QcEOiTBb"
      },
      "source": [
        "def heun(a, b, delta_t, N0, t):\n",
        "\n",
        "  total = len(t)\n",
        "  N_heun = np.zeros(total)\n",
        "  N_heun[0] = N0\n",
        "\n",
        "  for k in range(total-1):\n",
        "    P = N_heun[k] + delta_t * (a*N_heun[k] - b*N_heun[k]**2) \n",
        "    N_heun[k+1] = N_heun[k] + delta_t/2 * ( (a*N_heun[k] - b*N_heun[k]**2) + dndt( t[k],  P) )\n",
        "\n",
        "  return N_heun"
      ],
      "execution_count": 32,
      "outputs": []
    },
    {
      "cell_type": "markdown",
      "metadata": {
        "id": "eaSjUe3P4B0L"
      },
      "source": [
        "## Simulation Result"
      ]
    },
    {
      "cell_type": "markdown",
      "metadata": {
        "id": "sfd30dcj4JwG"
      },
      "source": [
        "### Numerical Solution"
      ]
    },
    {
      "cell_type": "code",
      "metadata": {
        "colab": {
          "base_uri": "https://localhost:8080/",
          "height": 431
        },
        "id": "PKmb7GJbpwNr",
        "outputId": "02042f7d-94ae-4e55-feb9-e7c11ccf0711"
      },
      "source": [
        "t = np.arange(start=0, stop=1.1, step=0.1)\n",
        "delta_t = 0.1\n",
        "N0 = 1\n",
        "a = 1\n",
        "b = 2\n",
        "\n",
        "y_euler = euler(a, b, delta_t, N0, t)\n",
        "y_heun = heun(a, b, delta_t, N0, t)\n",
        "y_analytic = Nt_analytic(a, b, N0, t)\n",
        "\n",
        "\n",
        "plt.figure(figsize=(10, 6))\n",
        "plt.plot(t, y_euler, label=\"Euler\")\n",
        "plt.plot(t, y_heun, '*', label = \"Heun\")\n",
        "plt.plot(t, y_analytic, label=\"Analytic\")\n",
        "plt.style.context(\"dark_background\")\n",
        "\n",
        "plt.suptitle('A Numerical Simulation', fontsize=15)\n",
        "plt.xlabel('t', fontsize=10)\n",
        "plt.ylabel('N(t)', fontsize=10)\n",
        "\n",
        "plt.legend()\n",
        "\n",
        "plt.show()"
      ],
      "execution_count": 76,
      "outputs": [
        {
          "output_type": "display_data",
          "data": {
            "image/png": "[encoded data removed]",
            "text/plain": [
              "<Figure size 720x432 with 1 Axes>"
            ]
          },
          "metadata": {}
        }
      ]
    },
    {
      "cell_type": "code",
      "metadata": {
        "colab": {
          "base_uri": "https://localhost:8080/",
          "height": 390
        },
        "id": "QxsBZPeAv8hS",
        "outputId": "e78292f3-6c25-44e8-bb76-602183805445"
      },
      "source": [
        "import pandas as pd\n",
        "\n",
        "data_solution = {\"t\": t, \"Exact\": y_analytic, \"Euler\": y_euler , \"Heun\": y_heun}\n",
        "\n",
        "pd.DataFrame(data)"
      ],
      "execution_count": 50,
      "outputs": [
        {
          "output_type": "execute_result",
          "data": {
            "text/html": [
              "<div>\n",
              "<style scoped>\n",
              "    .dataframe tbody tr th:only-of-type {\n",
              "        vertical-align: middle;\n",
              "    }\n",
              "\n",
              "    .dataframe tbody tr th {\n",
              "        vertical-align: top;\n",
              "    }\n",
              "\n",
              "    .dataframe thead th {\n",
              "        text-align: right;\n",
              "    }\n",
              "</style>\n",
              "<table border=\"1\" class=\"dataframe\">\n",
              "  <thead>\n",
              "    <tr style=\"text-align: right;\">\n",
              "      <th></th>\n",
              "      <th>t</th>\n",
              "      <th>Exact</th>\n",
              "      <th>Euler</th>\n",
              "      <th>Heun</th>\n",
              "    </tr>\n",
              "  </thead>\n",
              "  <tbody>\n",
              "    <tr>\n",
              "      <th>0</th>\n",
              "      <td>0.0</td>\n",
              "      <td>1.000000</td>\n",
              "      <td>1.000000</td>\n",
              "      <td>1.000000</td>\n",
              "    </tr>\n",
              "    <tr>\n",
              "      <th>1</th>\n",
              "      <td>0.1</td>\n",
              "      <td>0.913106</td>\n",
              "      <td>0.900000</td>\n",
              "      <td>0.914000</td>\n",
              "    </tr>\n",
              "    <tr>\n",
              "      <th>2</th>\n",
              "      <td>0.2</td>\n",
              "      <td>0.846547</td>\n",
              "      <td>0.828000</td>\n",
              "      <td>0.847798</td>\n",
              "    </tr>\n",
              "    <tr>\n",
              "      <th>3</th>\n",
              "      <td>0.3</td>\n",
              "      <td>0.794167</td>\n",
              "      <td>0.773683</td>\n",
              "      <td>0.795529</td>\n",
              "    </tr>\n",
              "    <tr>\n",
              "      <th>4</th>\n",
              "      <td>0.4</td>\n",
              "      <td>0.752061</td>\n",
              "      <td>0.731334</td>\n",
              "      <td>0.753417</td>\n",
              "    </tr>\n",
              "    <tr>\n",
              "      <th>5</th>\n",
              "      <td>0.5</td>\n",
              "      <td>0.717633</td>\n",
              "      <td>0.697498</td>\n",
              "      <td>0.718930</td>\n",
              "    </tr>\n",
              "    <tr>\n",
              "      <th>6</th>\n",
              "      <td>0.6</td>\n",
              "      <td>0.689090</td>\n",
              "      <td>0.669947</td>\n",
              "      <td>0.690305</td>\n",
              "    </tr>\n",
              "    <tr>\n",
              "      <th>7</th>\n",
              "      <td>0.7</td>\n",
              "      <td>0.665152</td>\n",
              "      <td>0.647176</td>\n",
              "      <td>0.666276</td>\n",
              "    </tr>\n",
              "    <tr>\n",
              "      <th>8</th>\n",
              "      <td>0.8</td>\n",
              "      <td>0.644882</td>\n",
              "      <td>0.628126</td>\n",
              "      <td>0.645914</td>\n",
              "    </tr>\n",
              "    <tr>\n",
              "      <th>9</th>\n",
              "      <td>0.9</td>\n",
              "      <td>0.627577</td>\n",
              "      <td>0.612030</td>\n",
              "      <td>0.628522</td>\n",
              "    </tr>\n",
              "    <tr>\n",
              "      <th>10</th>\n",
              "      <td>1.0</td>\n",
              "      <td>0.612700</td>\n",
              "      <td>0.598317</td>\n",
              "      <td>0.613563</td>\n",
              "    </tr>\n",
              "  </tbody>\n",
              "</table>\n",
              "</div>"
            ],
            "text/plain": [
              "      t     Exact     Euler      Heun\n",
              "0   0.0  1.000000  1.000000  1.000000\n",
              "1   0.1  0.913106  0.900000  0.914000\n",
              "2   0.2  0.846547  0.828000  0.847798\n",
              "3   0.3  0.794167  0.773683  0.795529\n",
              "4   0.4  0.752061  0.731334  0.753417\n",
              "5   0.5  0.717633  0.697498  0.718930\n",
              "6   0.6  0.689090  0.669947  0.690305\n",
              "7   0.7  0.665152  0.647176  0.666276\n",
              "8   0.8  0.644882  0.628126  0.645914\n",
              "9   0.9  0.627577  0.612030  0.628522\n",
              "10  1.0  0.612700  0.598317  0.613563"
            ]
          },
          "metadata": {},
          "execution_count": 50
        }
      ]
    },
    {
      "cell_type": "markdown",
      "metadata": {
        "id": "to_6Aq7w4ajZ"
      },
      "source": [
        "### Errors Comparison"
      ]
    },
    {
      "cell_type": "code",
      "metadata": {
        "colab": {
          "base_uri": "https://localhost:8080/",
          "height": 390
        },
        "id": "sVIvCTgRy7nA",
        "outputId": "40661102-5dbd-460c-af94-2a2116bef496"
      },
      "source": [
        "errorEuler = abs(y_euler-y_analytic)\n",
        "errorHeun = abs(y_heun-y_analytic) \n",
        "\n",
        "\n",
        "data_errors = {\"t\": t, \"Erorr of Euler's\": errorEuler , \"Error of Heun's\": errorHeun }\n",
        "pd.DataFrame(data_errors)"
      ],
      "execution_count": 57,
      "outputs": [
        {
          "output_type": "execute_result",
          "data": {
            "text/html": [
              "<div>\n",
              "<style scoped>\n",
              "    .dataframe tbody tr th:only-of-type {\n",
              "        vertical-align: middle;\n",
              "    }\n",
              "\n",
              "    .dataframe tbody tr th {\n",
              "        vertical-align: top;\n",
              "    }\n",
              "\n",
              "    .dataframe thead th {\n",
              "        text-align: right;\n",
              "    }\n",
              "</style>\n",
              "<table border=\"1\" class=\"dataframe\">\n",
              "  <thead>\n",
              "    <tr style=\"text-align: right;\">\n",
              "      <th></th>\n",
              "      <th>t</th>\n",
              "      <th>Erorr of Euler's</th>\n",
              "      <th>Error of Heun's</th>\n",
              "    </tr>\n",
              "  </thead>\n",
              "  <tbody>\n",
              "    <tr>\n",
              "      <th>0</th>\n",
              "      <td>0.0</td>\n",
              "      <td>0.000000</td>\n",
              "      <td>0.000000</td>\n",
              "    </tr>\n",
              "    <tr>\n",
              "      <th>1</th>\n",
              "      <td>0.1</td>\n",
              "      <td>0.013106</td>\n",
              "      <td>0.000894</td>\n",
              "    </tr>\n",
              "    <tr>\n",
              "      <th>2</th>\n",
              "      <td>0.2</td>\n",
              "      <td>0.018547</td>\n",
              "      <td>0.001251</td>\n",
              "    </tr>\n",
              "    <tr>\n",
              "      <th>3</th>\n",
              "      <td>0.3</td>\n",
              "      <td>0.020483</td>\n",
              "      <td>0.001362</td>\n",
              "    </tr>\n",
              "    <tr>\n",
              "      <th>4</th>\n",
              "      <td>0.4</td>\n",
              "      <td>0.020726</td>\n",
              "      <td>0.001357</td>\n",
              "    </tr>\n",
              "    <tr>\n",
              "      <th>5</th>\n",
              "      <td>0.5</td>\n",
              "      <td>0.020135</td>\n",
              "      <td>0.001297</td>\n",
              "    </tr>\n",
              "    <tr>\n",
              "      <th>6</th>\n",
              "      <td>0.6</td>\n",
              "      <td>0.019143</td>\n",
              "      <td>0.001214</td>\n",
              "    </tr>\n",
              "    <tr>\n",
              "      <th>7</th>\n",
              "      <td>0.7</td>\n",
              "      <td>0.017977</td>\n",
              "      <td>0.001123</td>\n",
              "    </tr>\n",
              "    <tr>\n",
              "      <th>8</th>\n",
              "      <td>0.8</td>\n",
              "      <td>0.016756</td>\n",
              "      <td>0.001032</td>\n",
              "    </tr>\n",
              "    <tr>\n",
              "      <th>9</th>\n",
              "      <td>0.9</td>\n",
              "      <td>0.015547</td>\n",
              "      <td>0.000945</td>\n",
              "    </tr>\n",
              "    <tr>\n",
              "      <th>10</th>\n",
              "      <td>1.0</td>\n",
              "      <td>0.014383</td>\n",
              "      <td>0.000863</td>\n",
              "    </tr>\n",
              "  </tbody>\n",
              "</table>\n",
              "</div>"
            ],
            "text/plain": [
              "      t  Erorr of Euler's  Error of Heun's\n",
              "0   0.0          0.000000         0.000000\n",
              "1   0.1          0.013106         0.000894\n",
              "2   0.2          0.018547         0.001251\n",
              "3   0.3          0.020483         0.001362\n",
              "4   0.4          0.020726         0.001357\n",
              "5   0.5          0.020135         0.001297\n",
              "6   0.6          0.019143         0.001214\n",
              "7   0.7          0.017977         0.001123\n",
              "8   0.8          0.016756         0.001032\n",
              "9   0.9          0.015547         0.000945\n",
              "10  1.0          0.014383         0.000863"
            ]
          },
          "metadata": {},
          "execution_count": 57
        }
      ]
    },
    {
      "cell_type": "code",
      "metadata": {
        "colab": {
          "base_uri": "https://localhost:8080/",
          "height": 431
        },
        "id": "M8p-gDi20BYK",
        "outputId": "021dcb8d-7301-4e6d-b4ae-8aeff07f0554"
      },
      "source": [
        "y_euler = euler(a, b, delta_t, N0, t)\n",
        "y_heun = heun(a, b, delta_t, N0, t)\n",
        "y_analytic = Nt_analytic(a, b, N0, t)\n",
        "\n",
        "plt.figure(figsize=(10, 6))\n",
        "plt.plot(t, errorEuler, label=\"Euler\")\n",
        "plt.plot(t, errorHeun, label = \"Heun\")\n",
        "plt.style.context(\"dark_background\")\n",
        "\n",
        "plt.suptitle('Errors Plot', fontsize=15)\n",
        "plt.xlabel('t', fontsize=10)\n",
        "plt.ylabel('Error', fontsize=10)\n",
        "plt.legend()\n",
        "\n",
        "plt.show()"
      ],
      "execution_count": 75,
      "outputs": [
        {
          "output_type": "display_data",
          "data": {
            "image/png": "[encoded data removed]",
            "text/plain": [
              "<Figure size 720x432 with 1 Axes>"
            ]
          },
          "metadata": {}
        }
      ]
    }
  ]
}