{
  "nbformat": 4,
  "nbformat_minor": 0,
  "metadata": {
    "colab": {
      "name": "Adams-Bashfort 4steps predictor-corrector.ipynb",
      "provenance": [],
      "collapsed_sections": [],
      "toc_visible": true,
      "authorship_tag": "ABX9TyMRW3KAso8RDTAgf+7K1yNw",
      "include_colab_link": true
    },
    "kernelspec": {
      "name": "python3",
      "display_name": "Python 3"
    },
    "language_info": {
      "name": "python"
    }
  },
  "cells": [
    {
      "cell_type": "markdown",
      "metadata": {
        "id": "view-in-github",
        "colab_type": "text"
      },
      "source": [
        "<a href=\"https://colab.research.google.com/github/husfuu/Mathematical-Modelling/blob/main/Numerical%20Method/solve%20ordinary%20differential%20equation/Adams_Bashfort_4steps_predictor_corrector.ipynb\" target=\"_parent\"><img src=\"https://colab.research.google.com/assets/colab-badge.svg\" alt=\"Open In Colab\"/></a>"
      ]
    },
    {
      "cell_type": "markdown",
      "metadata": {
        "id": "vsdX-DCNjYdb"
      },
      "source": [
        "## Solve ODE | Adams-Bashforth Predictor-Corrector Method"
      ]
    },
    {
      "cell_type": "markdown",
      "metadata": {
        "id": "JWbJ28lPkO2N"
      },
      "source": [
        "### Formula"
      ]
    },
    {
      "cell_type": "markdown",
      "metadata": {
        "id": "TF8hO3cDkRtl"
      },
      "source": [
        "predictor : $$ y^*_{r+1} = y_r + \\frac{h}{24} (55f'_r - 59 f'_{r-1} + 37 f'_{r-2} -9 f_{r-3})$$\n",
        "\n",
        "korektor : $$ y_{r+1} = y_r + \\frac{h}{24} (9f^{'*}_{r+1} + 19 f'_r - 5f_{r-1} + f_{r-2})$$"
      ]
    },
    {
      "cell_type": "markdown",
      "metadata": {
        "id": "tEe1RXr5lnzt"
      },
      "source": [
        "### Problem"
      ]
    },
    {
      "cell_type": "markdown",
      "metadata": {
        "id": "966MFGlJYao3"
      },
      "source": [
        "* In this case we'll use this differential equation:\n",
        "$$ y' = y + x^2 + 1 $$\n",
        "\n",
        "* this equation has the following exact solution:\n",
        "$$ y = 4e^x -x^2 - 2x - 3 $$\n",
        "\n",
        "* objective:\n",
        " we will approximate the exact solution using the Adams-Bashfort 4 steps method and also the predictor-Corrector method. "
      ]
    },
    {
      "cell_type": "markdown",
      "metadata": {
        "id": "S3_Rf2Qeg0NR"
      },
      "source": [
        "## Setup "
      ]
    },
    {
      "cell_type": "code",
      "metadata": {
        "id": "4x28_tjqg19c"
      },
      "source": [
        "import numpy as np\n",
        "import matplotlib.pyplot as plt\n",
        "import seaborn as sns\n",
        "import pandas as pd"
      ],
      "execution_count": 1,
      "outputs": []
    },
    {
      "cell_type": "markdown",
      "metadata": {
        "id": "HlDLpY4Hf8LT"
      },
      "source": [
        "## Ordinary Differential Equation"
      ]
    },
    {
      "cell_type": "code",
      "metadata": {
        "id": "GP4EXV4JYYMY"
      },
      "source": [
        "def dydx(x, y):\n",
        "  return y + x**2 + 1"
      ],
      "execution_count": 2,
      "outputs": []
    },
    {
      "cell_type": "markdown",
      "metadata": {
        "id": "g3R6jBS3kdT6"
      },
      "source": [
        "## Exact Solution"
      ]
    },
    {
      "cell_type": "code",
      "metadata": {
        "id": "1gvRBFf4a7UK"
      },
      "source": [
        "def analytic(x):\n",
        "    \"\"\"[get the solution from exact solution that we got from analytic]\n",
        "\n",
        "    Args:\n",
        "        x ([array 1 dimension]): [data that we want to observe]\n",
        "\n",
        "    Returns:\n",
        "        [array 1 dimension]: [the result analytic]\n",
        "    \"\"\"\n",
        "    N = len(x)\n",
        "    y_analytics = np.array([])\n",
        "\n",
        "    for i in range(N):\n",
        "      y_i_analytic = 4*np.exp(x[i]) - x[i]**2 - 2*x[i] - 3\n",
        "      y_analytics = np.append(y_analytics, y_i_analytic)\n",
        "\n",
        "    return y_analytics"
      ],
      "execution_count": 4,
      "outputs": []
    },
    {
      "cell_type": "markdown",
      "metadata": {
        "id": "knqLYppNgUmK"
      },
      "source": [
        "## Numeric Method"
      ]
    },
    {
      "cell_type": "code",
      "metadata": {
        "id": "LirCOYDRdCId"
      },
      "source": [
        "def adam_basfort_4steps_predictor_corector(x, a, b):\n",
        "    \"\"\"[adam_basfort 4 step predictor corrector method to solve ODE]\n",
        "\n",
        "    Args:\n",
        "        x ([array 1 dimension]): [data that we want to observe]\n",
        "        a ([float]): [first value in x]\n",
        "        b ([float]): [last value in x]\n",
        "    Returns:\n",
        "        [array 1 dimension]: [the result of the method]\n",
        "    \"\"\"\n",
        "    y = np.zeros(len(x))\n",
        "    y[0] = 1\n",
        "    # first 4 data calculated by runge-kutta\n",
        "    for i in range(4):\n",
        "      rk1 = h*dydx(x[i], y[i])\n",
        "      rk2 = h*dydx(x[i] + h/2, y[i] + 0.5*rk1)\n",
        "      rk3 = h*dydx(x[i] + h/2, y[i] + 0.5*rk2 )\n",
        "      rk4 = h*dydx(x[i] + h, y[i] + rk3)\n",
        "      \n",
        "      y[i+1] = y[i] + h/6 * ( rk1 + 2*rk2 + 2*rk3 + rk4 )\n",
        "\n",
        "    # for the rest of data calculated by Predictor-Corector method\n",
        "    for i in range(4, len(x)-1):\n",
        "      # predictor\n",
        "      y[i+1] = y[i] + h/24 * ( 55*dydx(x[i], y[i]) - 59*dydx(x[i-1], y[i-1]) + 37*dydx(x[i-2], y[i-2]) - 9*dydx(x[i-3], y[i-3]) )\n",
        "      # corrector | update y value\n",
        "      y[i+1] = y[i] + h/24 * ( 9*dydx(x[i+1], y[i+1]) + 19*dydx(x[i], y[i]) - 5*dydx(x[i-1], y[i-1]) + dydx(x[i-2], y[i-2]) )\n",
        "\n",
        "    return y"
      ],
      "execution_count": 9,
      "outputs": []
    },
    {
      "cell_type": "markdown",
      "metadata": {
        "id": "SddCz6PWc7Tv"
      },
      "source": [
        "## Calculation"
      ]
    },
    {
      "cell_type": "code",
      "metadata": {
        "id": "n0iVa9XimP_T"
      },
      "source": [
        "n = 10\n",
        "a = 0\n",
        "b = 10\n",
        "h = (b-a)/n\n",
        "# data that we want to observe\n",
        "x = np.arange( start=0, stop=b+1, step=h )"
      ],
      "execution_count": 7,
      "outputs": []
    },
    {
      "cell_type": "markdown",
      "metadata": {
        "id": "RTGrikv7eYDW"
      },
      "source": [
        "## Numeric and Analytics Comparison Plot"
      ]
    },
    {
      "cell_type": "code",
      "metadata": {
        "colab": {
          "base_uri": "https://localhost:8080/",
          "height": 206
        },
        "id": "LGdccHN9YLjU",
        "outputId": "cdd7fd6f-7874-473d-a998-5ac7e64b45ee"
      },
      "source": [
        "data_numeric = pd.DataFrame({\n",
        "    \"x\": [x_i for x_i in x],\n",
        "    \"values\": [y for y in adam_basfort_4steps_predictor_corector(x, a, b)],\n",
        "    \"solution\": [\"numeric\" for i in range(len(x))]\n",
        "})\n",
        "data_numeric.head()"
      ],
      "execution_count": 10,
      "outputs": [
        {
          "output_type": "execute_result",
          "data": {
            "text/html": [
              "<div>\n",
              "<style scoped>\n",
              "    .dataframe tbody tr th:only-of-type {\n",
              "        vertical-align: middle;\n",
              "    }\n",
              "\n",
              "    .dataframe tbody tr th {\n",
              "        vertical-align: top;\n",
              "    }\n",
              "\n",
              "    .dataframe thead th {\n",
              "        text-align: right;\n",
              "    }\n",
              "</style>\n",
              "<table border=\"1\" class=\"dataframe\">\n",
              "  <thead>\n",
              "    <tr style=\"text-align: right;\">\n",
              "      <th></th>\n",
              "      <th>x</th>\n",
              "      <th>values</th>\n",
              "      <th>solution</th>\n",
              "    </tr>\n",
              "  </thead>\n",
              "  <tbody>\n",
              "    <tr>\n",
              "      <th>0</th>\n",
              "      <td>0.0</td>\n",
              "      <td>1.000000</td>\n",
              "      <td>numeric</td>\n",
              "    </tr>\n",
              "    <tr>\n",
              "      <th>1</th>\n",
              "      <td>1.0</td>\n",
              "      <td>4.854167</td>\n",
              "      <td>numeric</td>\n",
              "    </tr>\n",
              "    <tr>\n",
              "      <th>2</th>\n",
              "      <td>2.0</td>\n",
              "      <td>18.417535</td>\n",
              "      <td>numeric</td>\n",
              "    </tr>\n",
              "    <tr>\n",
              "      <th>3</th>\n",
              "      <td>3.0</td>\n",
              "      <td>61.693323</td>\n",
              "      <td>numeric</td>\n",
              "    </tr>\n",
              "    <tr>\n",
              "      <th>4</th>\n",
              "      <td>4.0</td>\n",
              "      <td>188.856917</td>\n",
              "      <td>numeric</td>\n",
              "    </tr>\n",
              "  </tbody>\n",
              "</table>\n",
              "</div>"
            ],
            "text/plain": [
              "     x      values solution\n",
              "0  0.0    1.000000  numeric\n",
              "1  1.0    4.854167  numeric\n",
              "2  2.0   18.417535  numeric\n",
              "3  3.0   61.693323  numeric\n",
              "4  4.0  188.856917  numeric"
            ]
          },
          "metadata": {},
          "execution_count": 10
        }
      ]
    },
    {
      "cell_type": "code",
      "metadata": {
        "colab": {
          "base_uri": "https://localhost:8080/",
          "height": 206
        },
        "id": "QMIEvE96kuTY",
        "outputId": "bed19ba4-836a-4897-ebb8-b7a5ff7a0979"
      },
      "source": [
        "data_analytic = pd.DataFrame({\n",
        "    \"x\": [x_i for x_i in x],\n",
        "    \"values\": [y for y in analytic(x)],\n",
        "    \"solution\": [\"analytic\" for i in range(len(x))]\n",
        "})\n",
        "data_analytic.head()"
      ],
      "execution_count": 11,
      "outputs": [
        {
          "output_type": "execute_result",
          "data": {
            "text/html": [
              "<div>\n",
              "<style scoped>\n",
              "    .dataframe tbody tr th:only-of-type {\n",
              "        vertical-align: middle;\n",
              "    }\n",
              "\n",
              "    .dataframe tbody tr th {\n",
              "        vertical-align: top;\n",
              "    }\n",
              "\n",
              "    .dataframe thead th {\n",
              "        text-align: right;\n",
              "    }\n",
              "</style>\n",
              "<table border=\"1\" class=\"dataframe\">\n",
              "  <thead>\n",
              "    <tr style=\"text-align: right;\">\n",
              "      <th></th>\n",
              "      <th>x</th>\n",
              "      <th>values</th>\n",
              "      <th>solution</th>\n",
              "    </tr>\n",
              "  </thead>\n",
              "  <tbody>\n",
              "    <tr>\n",
              "      <th>0</th>\n",
              "      <td>0.0</td>\n",
              "      <td>1.000000</td>\n",
              "      <td>analytic</td>\n",
              "    </tr>\n",
              "    <tr>\n",
              "      <th>1</th>\n",
              "      <td>1.0</td>\n",
              "      <td>4.873127</td>\n",
              "      <td>analytic</td>\n",
              "    </tr>\n",
              "    <tr>\n",
              "      <th>2</th>\n",
              "      <td>2.0</td>\n",
              "      <td>18.556224</td>\n",
              "      <td>analytic</td>\n",
              "    </tr>\n",
              "    <tr>\n",
              "      <th>3</th>\n",
              "      <td>3.0</td>\n",
              "      <td>62.342148</td>\n",
              "      <td>analytic</td>\n",
              "    </tr>\n",
              "    <tr>\n",
              "      <th>4</th>\n",
              "      <td>4.0</td>\n",
              "      <td>191.392600</td>\n",
              "      <td>analytic</td>\n",
              "    </tr>\n",
              "  </tbody>\n",
              "</table>\n",
              "</div>"
            ],
            "text/plain": [
              "     x      values  solution\n",
              "0  0.0    1.000000  analytic\n",
              "1  1.0    4.873127  analytic\n",
              "2  2.0   18.556224  analytic\n",
              "3  3.0   62.342148  analytic\n",
              "4  4.0  191.392600  analytic"
            ]
          },
          "metadata": {},
          "execution_count": 11
        }
      ]
    },
    {
      "cell_type": "code",
      "metadata": {
        "colab": {
          "base_uri": "https://localhost:8080/",
          "height": 388
        },
        "id": "6vS8A3Pnf7QV",
        "outputId": "207e105f-383d-4b41-d021-461240f417c5"
      },
      "source": [
        "data = data_numeric.append(data_analytic, ignore_index=True)\n",
        "sns.set_palette(sns.color_palette(\"pastel\"))\n",
        "plt.figure(figsize = (9,6))\n",
        "sns.set_style('darkgrid')\n",
        "ax = sns.lineplot(data=data, x=\"x\", y=\"values\", hue=\"solution\", style=\"solution\", markers=True, dashes=False)"
      ],
      "execution_count": 12,
      "outputs": [
        {
          "output_type": "display_data",
          "data": {
            "image/png": "[encoded data removed]",
            "text/plain": [
              "<Figure size 648x432 with 1 Axes>"
            ]
          },
          "metadata": {
            "needs_background": "light"
          }
        }
      ]
    }
  ]
}