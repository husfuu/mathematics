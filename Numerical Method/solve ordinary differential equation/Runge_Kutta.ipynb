{
  "nbformat": 4,
  "nbformat_minor": 0,
  "metadata": {
    "colab": {
      "name": "Runge Kutta.ipynb",
      "provenance": [],
      "collapsed_sections": [
        "g2BDavzgq3gE"
      ],
      "authorship_tag": "ABX9TyPq8OsD/VF4wP1Tsi4U0amj",
      "include_colab_link": true
    },
    "kernelspec": {
      "name": "python3",
      "display_name": "Python 3"
    },
    "language_info": {
      "name": "python"
    }
  },
  "cells": [
    {
      "cell_type": "markdown",
      "metadata": {
        "id": "view-in-github",
        "colab_type": "text"
      },
      "source": [
        "<a href=\"https://colab.research.google.com/github/husfuu/Mathematical-Modelling/blob/main/Numerical%20Method/solve%20ordinary%20differential%20equation/Runge_Kutta.ipynb\" target=\"_parent\"><img src=\"https://colab.research.google.com/assets/colab-badge.svg\" alt=\"Open In Colab\"/></a>"
      ]
    },
    {
      "cell_type": "markdown",
      "metadata": {
        "id": "tzYIpywJ13gq"
      },
      "source": [
        "* In this case we'll use this differential equation:\n",
        "$$ y' = y + x^2 + 1 $$\n",
        "\n",
        "* this equation has the following exact solution:\n",
        "$$ y = 4e^x - x^2 + 1$$\n",
        "\n",
        "* Objective: <br>\n",
        "we will approximate the exact solution using the **fourth order runge kuta** method."
      ]
    },
    {
      "cell_type": "markdown",
      "metadata": {
        "id": "gomb_h_F3jpS"
      },
      "source": [
        "### Ordinary Differential Equation"
      ]
    },
    {
      "cell_type": "code",
      "metadata": {
        "id": "5x4xrnOnw7GG"
      },
      "source": [
        "def dydx(x, y):\n",
        "  return y + x**2 + 1"
      ],
      "execution_count": 1,
      "outputs": []
    },
    {
      "cell_type": "markdown",
      "metadata": {
        "id": "lqECQkprlkV3"
      },
      "source": [
        "### Runge-Kutta Method"
      ]
    },
    {
      "cell_type": "markdown",
      "metadata": {
        "id": "FQHLHSQL33LT"
      },
      "source": [
        "More details about Runge Kutta: https://en.wikipedia.org/wiki/Runge%E2%80%93Kutta_methods"
      ]
    },
    {
      "cell_type": "code",
      "metadata": {
        "id": "85q126hzjWH3"
      },
      "source": [
        "def fk1(x, y, dydx):\n",
        "  return h * dydx(x, y)\n",
        "\n",
        "def fk2(x, y, dydx, fk1):\n",
        "  return dydx(x + h/2, y + h/2 * fk1)\n",
        "\n",
        "def fk3(x, y, dydx, fk2):\n",
        "  return dydx(x + h/2, y + h/2 * fk2)\n",
        "              \n",
        "def fk4(x, y, dydx, fk3):\n",
        "  return dydx(x + h, y + h * fk3)"
      ],
      "execution_count": 2,
      "outputs": []
    },
    {
      "cell_type": "code",
      "metadata": {
        "id": "zHcNPYbJkiXf"
      },
      "source": [
        "def runge_kutta(h, y0, dydx, fk1, fk2, fk3, fk4):\n",
        "  N = len(x)\n",
        "  y = np.zeros(N)\n",
        "  y[0] = y0\n",
        "\n",
        "  for i in range(N-1):\n",
        "\n",
        "    current_fk1 = fk1(x[i], y[i], dydx)\n",
        "    current_fk2 = fk2(x[i], y[i], dydx, current_fk1)\n",
        "    current_fk3 = fk3(x[i], y[i], dydx, current_fk2)\n",
        "    current_fk4 = fk4(x[i], y[i], dydx, current_fk3)\n",
        "\n",
        "    y[i+1] = y[i] + h/6 * (current_fk1 + 2*current_fk2 + 2*current_fk3 + current_fk4 )\n",
        "  return y\n"
      ],
      "execution_count": 3,
      "outputs": []
    },
    {
      "cell_type": "markdown",
      "metadata": {
        "id": "uy3EGsN1lp_T"
      },
      "source": [
        "### Analytic"
      ]
    },
    {
      "cell_type": "code",
      "metadata": {
        "id": "BJJKWHi_vxXM"
      },
      "source": [
        "def analytic(x):\n",
        "  \n",
        "  N = len(x)\n",
        "  y_analytics = np.array([])\n",
        "\n",
        "  for i in range(N):\n",
        "    y_i_analytic = 4*np.exp(x[i]) - x[i]**2 - 2*x[i] - 3\n",
        "    y_analytics = np.append(y_analytics, y_i_analytic)\n",
        "\n",
        "  return y_analytics\n"
      ],
      "execution_count": 4,
      "outputs": []
    },
    {
      "cell_type": "markdown",
      "metadata": {
        "id": "u3x9ElL54L3r"
      },
      "source": [
        "### Testing on $ N = 10$"
      ]
    },
    {
      "cell_type": "code",
      "metadata": {
        "colab": {
          "base_uri": "https://localhost:8080/"
        },
        "id": "dpppuFfardWF",
        "outputId": "ef8cb3e2-db19-4db4-e33c-3726f9926e31"
      },
      "source": [
        "import numpy as np\n",
        "\n",
        "x = np.linspace(0, 10, 10)\n",
        "y0 = 1\n",
        "h = 0.05\n",
        "N = 10\n",
        "res_analytic = analytic(x)\n",
        "res_rungeKutta = runge_kutta(h, y0, dydx, fk1, fk2, fk3, fk4)\n",
        "\n",
        "for i in range(N-1):\n",
        "  print(f'untuk t = {round(x[i], 3)} maka numerik P = {round(res_rungeKutta[i], 3)}, analitik P = {round(res_analytic[i], 3)}, error = {round(abs(res_rungeKutta[i] - res_analytic[i]), 3)}')"
      ],
      "execution_count": 5,
      "outputs": [
        {
          "output_type": "stream",
          "name": "stdout",
          "text": [
            "untuk t = 0.0 maka numerik P = 1.0, analitik P = 1.0, error = 0.0\n",
            "untuk t = 1.111 maka numerik P = 1.086, analitik P = 5.694, error = 4.608\n",
            "untuk t = 2.222 maka numerik P = 1.231, analitik P = 24.529, error = 23.297\n",
            "untuk t = 3.333 maka numerik P = 1.545, analitik P = 91.349, error = 89.804\n",
            "untuk t = 4.444 maka numerik P = 2.14, analitik P = 308.968, error = 306.828\n",
            "untuk t = 5.556 maka numerik P = 3.135, analitik P = 989.707, error = 986.573\n",
            "untuk t = 6.667 maka numerik P = 4.652, analitik P = 3082.31, error = 3077.658\n",
            "untuk t = 7.778 maka numerik P = 6.82, analitik P = 9468.809, error = 9461.988\n",
            "untuk t = 8.889 maka numerik P = 9.774, analitik P = 28904.042, error = 28894.268\n"
          ]
        }
      ]
    },
    {
      "cell_type": "markdown",
      "metadata": {
        "id": "1IyV__l75GQY"
      },
      "source": [
        "###  Runge-Kutta and Analytics Comparison Plot "
      ]
    },
    {
      "cell_type": "code",
      "metadata": {
        "colab": {
          "base_uri": "https://localhost:8080/",
          "height": 265
        },
        "id": "UpMoUfSqoKmh",
        "outputId": "226db9e0-1d0f-4b80-b87e-b54064bebabb"
      },
      "source": [
        "import matplotlib.pyplot as plt\n",
        "N = 100\n",
        "a = 1\n",
        "b = 10\n",
        "y0 = 1\n",
        "h = 0.0125\n",
        "\n",
        "x = np.linspace(a, b, N)\n",
        "y_rungeKutta = runge_kutta(h, y0, dydx, fk1, fk2, fk3, fk4)\n",
        "y_analytic = analytic(x)\n",
        "\n",
        "\n",
        "plt.plot(x, y_rungeKutta, label=\"Numeric\")\n",
        "plt.plot(x, y_analytic, label = \"Analytic\")\n",
        "plt.legend()\n",
        "\n",
        "plt.show()"
      ],
      "execution_count": 6,
      "outputs": [
        {
          "output_type": "display_data",
          "data": {
            "image/png": "[encoded data removed]",
            "text/plain": [
              "<Figure size 432x288 with 1 Axes>"
            ]
          },
          "metadata": {
            "needs_background": "light"
          }
        }
      ]
    },
    {
      "cell_type": "markdown",
      "metadata": {
        "id": "wlO3tJE3wijK"
      },
      "source": [
        "### Errors Comparison "
      ]
    },
    {
      "cell_type": "markdown",
      "metadata": {
        "id": "4bQR1BZ87H2h"
      },
      "source": [
        "This errors comparison based on $h$ value. In case I use some $h$ values below:\n",
        "* $h$ = 0.1\n",
        "* $h$ = 0.05\n",
        "* $h$ = 0.025\n",
        "* $h$ = 0.0125"
      ]
    },
    {
      "cell_type": "code",
      "metadata": {
        "colab": {
          "base_uri": "https://localhost:8080/",
          "height": 374
        },
        "id": "l3rs8jB1z71l",
        "outputId": "ccd64ffa-5a61-44bd-ddd9-749851184a43"
      },
      "source": [
        "h1 = 0.1  \n",
        "h2 = 0.05\n",
        "h3 = 0.025\n",
        "h4 = 0.0125\n",
        "\n",
        "y_rungeKutta_h1 = runge_kutta(h1, y0, dydx, fk1, fk2, fk3, fk4)\n",
        "y_rungeKutta_h2 = runge_kutta(h2, y0, dydx, fk1, fk2, fk3, fk4)\n",
        "y_rungeKutta_h3 = runge_kutta(h3, y0, dydx, fk1, fk2, fk3, fk4)\n",
        "y_rungeKutta_h4 = runge_kutta(h4, y0, dydx, fk1, fk2, fk3, fk4)\n",
        "\n",
        "plt.figure(figsize=(8, 6))\n",
        "\n",
        "plt.plot(x, abs(y_rungeKutta_h1 - y_analytic), label=\"h = 0.1\")\n",
        "plt.plot(x, abs(y_rungeKutta_h2 - y_analytic), '*', label=\"h = 0.05\")\n",
        "plt.plot(x, abs(y_rungeKutta_h3 - y_analytic), '-', label=\"h = 0.025\")\n",
        "plt.plot(x, abs(y_rungeKutta_h4 - y_analytic), label=\"h = 0.00125\")\n",
        "\n",
        "plt.legend()\n",
        "plt.show()"
      ],
      "execution_count": 9,
      "outputs": [
        {
          "output_type": "display_data",
          "data": {
            "image/png": "[encoded data removed]",
            "text/plain": [
              "<Figure size 576x432 with 1 Axes>"
            ]
          },
          "metadata": {
            "needs_background": "light"
          }
        }
      ]
    },
    {
      "cell_type": "code",
      "metadata": {
        "id": "7b5R-vQr6m8D"
      },
      "source": [
        ""
      ],
      "execution_count": 7,
      "outputs": []
    }
  ]
}