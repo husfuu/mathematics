{
  "nbformat": 4,
  "nbformat_minor": 0,
  "metadata": {
    "colab": {
      "name": "Heun.ipynb",
      "provenance": [],
      "collapsed_sections": [],
      "authorship_tag": "ABX9TyONLKsGGruLtlRj/4A5kKNv",
      "include_colab_link": true
    },
    "kernelspec": {
      "name": "python3",
      "display_name": "Python 3"
    },
    "language_info": {
      "name": "python"
    }
  },
  "cells": [
    {
      "cell_type": "markdown",
      "metadata": {
        "id": "view-in-github",
        "colab_type": "text"
      },
      "source": [
        "<a href=\"https://colab.research.google.com/github/husfuu/Mathematical-Modelling/blob/main/Numerical%20Method/solve%20ordinary%20differential%20equation/Heun.ipynb\" target=\"_parent\"><img src=\"https://colab.research.google.com/assets/colab-badge.svg\" alt=\"Open In Colab\"/></a>"
      ]
    },
    {
      "cell_type": "markdown",
      "metadata": {
        "id": "tzYIpywJ13gq"
      },
      "source": [
        "* In this case we'll use this differential equation:\n",
        "$$ y' = y + x^2 + 1 $$\n",
        "\n",
        "* this equation has the following exact solution:\n",
        "$$ y = 4e^x - x^2 + 1$$\n",
        "\n",
        "* Objective: <br>\n",
        "we will approximate the exact solution using the **Heun** method."
      ]
    },
    {
      "cell_type": "markdown",
      "metadata": {
        "id": "gomb_h_F3jpS"
      },
      "source": [
        "### Ordinary Differential Equation"
      ]
    },
    {
      "cell_type": "code",
      "metadata": {
        "id": "5x4xrnOnw7GG"
      },
      "source": [
        "def dydx(x, y):\n",
        "  return y + x**2 + 1"
      ],
      "execution_count": 1,
      "outputs": []
    },
    {
      "cell_type": "markdown",
      "metadata": {
        "id": "lqECQkprlkV3"
      },
      "source": [
        "### Heun Method"
      ]
    },
    {
      "cell_type": "markdown",
      "metadata": {
        "id": "FQHLHSQL33LT"
      },
      "source": [
        "More details about Heun: http://calculuslab.deltacollege.edu/ODE/7-C-2/7-C-2-h.html"
      ]
    },
    {
      "cell_type": "code",
      "metadata": {
        "id": "YrvG-KnarhI6"
      },
      "source": [
        "def heun(x, y0, h, dydx):\n",
        "  N = len(x)\n",
        "  y = np.zeros(N)\n",
        "  y[0] = y0\n",
        "  for i in range(N-1):\n",
        "    y[i+1] = y[i] + (h/2)*(dydx(x[i], y[i]) + dydx(x[i+1], y[i] + h * dydx(x[i], y[i])))\n",
        "  return y"
      ],
      "execution_count": 2,
      "outputs": []
    },
    {
      "cell_type": "markdown",
      "metadata": {
        "id": "uy3EGsN1lp_T"
      },
      "source": [
        "### Analytic"
      ]
    },
    {
      "cell_type": "code",
      "metadata": {
        "id": "BJJKWHi_vxXM"
      },
      "source": [
        "def analytic(x):\n",
        "  \n",
        "  N = len(x)\n",
        "  y_analytics = np.array([])\n",
        "\n",
        "  for i in range(N):\n",
        "    y_i_analytic = 4*np.exp(x[i]) - x[i]**2 - 2*x[i] - 3\n",
        "    y_analytics = np.append(y_analytics, y_i_analytic)\n",
        "\n",
        "  return y_analytics\n"
      ],
      "execution_count": 3,
      "outputs": []
    },
    {
      "cell_type": "markdown",
      "metadata": {
        "id": "u3x9ElL54L3r"
      },
      "source": [
        "### Testing on $ N = 10$"
      ]
    },
    {
      "cell_type": "code",
      "metadata": {
        "colab": {
          "base_uri": "https://localhost:8080/"
        },
        "id": "dpppuFfardWF",
        "outputId": "08d445f1-5c62-4e05-9484-a847a3925384"
      },
      "source": [
        "import numpy as np\n",
        "\n",
        "x = np.linspace(0, 10, 10)\n",
        "y0 = 1\n",
        "h = 0.05\n",
        "N = 10\n",
        "res_analytic = analytic(x)\n",
        "res_heun = heun(x, y0, h, dydx)\n",
        "\n",
        "for i in range(N-1):\n",
        "  print(f'untuk t = {round(x[i], 3)} maka numerik P = {round(res_heun[i], 3)}, analitik P = {round(res_analytic[i], 3)}, error = {round(abs(res_heun[i] - res_analytic[i]), 3)}')"
      ],
      "execution_count": 5,
      "outputs": [
        {
          "output_type": "stream",
          "name": "stdout",
          "text": [
            "untuk t = 0.0 maka numerik P = 1.0, analitik P = 1.0, error = 0.0\n",
            "untuk t = 1.111 maka numerik P = 1.133, analitik P = 5.694, error = 4.561\n",
            "untuk t = 2.222 maka numerik P = 1.399, analitik P = 24.529, error = 23.13\n",
            "untuk t = 3.333 maka numerik P = 1.929, analitik P = 91.349, error = 89.42\n",
            "untuk t = 4.444 maka numerik P = 2.864, analitik P = 308.968, error = 306.104\n",
            "untuk t = 5.556 maka numerik P = 4.353, analitik P = 989.707, error = 985.355\n",
            "untuk t = 6.667 maka numerik P = 6.548, analitik P = 3082.31, error = 3075.762\n",
            "untuk t = 7.778 maka numerik P = 9.614, analitik P = 9468.809, error = 9459.195\n",
            "untuk t = 8.889 maka numerik P = 13.721, analitik P = 28904.042, error = 28890.321\n"
          ]
        }
      ]
    },
    {
      "cell_type": "markdown",
      "metadata": {
        "id": "1IyV__l75GQY"
      },
      "source": [
        "###  Heun and Analytics Comparison Plot "
      ]
    },
    {
      "cell_type": "code",
      "metadata": {
        "colab": {
          "base_uri": "https://localhost:8080/",
          "height": 265
        },
        "id": "UpMoUfSqoKmh",
        "outputId": "a09d6147-ba76-44d7-a73f-18852ed6255d"
      },
      "source": [
        "import matplotlib.pyplot as plt\n",
        "N = 100\n",
        "a = 1\n",
        "b = 10\n",
        "y0 = 1\n",
        "h = 0.0125\n",
        "x = np.linspace(a, b, N)\n",
        "\n",
        "y_heun = heun(x, y0, h, dydx)\n",
        "y_analytic = analytic(x)\n",
        "\n",
        "plt.plot(x, y_heun, label=\"Heun\")\n",
        "plt.plot(x, y_analytic, label = \"Analytic\")\n",
        "plt.legend()\n",
        "\n",
        "plt.show()"
      ],
      "execution_count": 6,
      "outputs": [
        {
          "output_type": "display_data",
          "data": {
            "image/png": "[encoded data removed]",
            "text/plain": [
              "<Figure size 432x288 with 1 Axes>"
            ]
          },
          "metadata": {
            "needs_background": "light"
          }
        }
      ]
    },
    {
      "cell_type": "markdown",
      "metadata": {
        "id": "wlO3tJE3wijK"
      },
      "source": [
        "### Errors Comparison "
      ]
    },
    {
      "cell_type": "markdown",
      "metadata": {
        "id": "4bQR1BZ87H2h"
      },
      "source": [
        "This errors comparison based on $h$ value. In case I use some $h$ values below:\n",
        "* $h$ = 0.1\n",
        "* $h$ = 0.05\n",
        "* $h$ = 0.025\n",
        "* $h$ = 0.0125"
      ]
    },
    {
      "cell_type": "code",
      "metadata": {
        "colab": {
          "base_uri": "https://localhost:8080/",
          "height": 374
        },
        "id": "l3rs8jB1z71l",
        "outputId": "71b2cc18-c094-4670-90ca-132d91a34d68"
      },
      "source": [
        "h1 = 0.1  \n",
        "h2 = 0.05\n",
        "h3 = 0.025\n",
        "h4 = 0.0125\n",
        "\n",
        "y_heun_h1 = heun(x, y0, h1, dydx)\n",
        "y_heun_h2 = heun(x, y0, h2, dydx)\n",
        "y_heun_h3 = heun(x, y0, h3, dydx)\n",
        "y_heun_h4 = heun(x, y0, h4, dydx)\n",
        "\n",
        "plt.figure(figsize=(8, 6))\n",
        "\n",
        "plt.plot(x, abs(y_heun_h1 - y_analytic), label=\"h = 0.1\")\n",
        "plt.plot(x, abs(y_heun_h2 - y_analytic), '*', label=\"h = 0.05\")\n",
        "plt.plot(x, abs(y_heun_h3 - y_analytic), '-', label=\"h = 0.025\")\n",
        "plt.plot(x, abs(y_heun_h4 - y_analytic), label=\"h = 0.00125\")\n",
        "\n",
        "plt.legend()\n",
        "plt.show()"
      ],
      "execution_count": 7,
      "outputs": [
        {
          "output_type": "display_data",
          "data": {
            "image/png": "[encoded data removed]",
            "text/plain": [
              "<Figure size 576x432 with 1 Axes>"
            ]
          },
          "metadata": {
            "needs_background": "light"
          }
        }
      ]
    },
    {
      "cell_type": "code",
      "metadata": {
        "id": "_Pm43SnO-soG"
      },
      "source": [
        ""
      ],
      "execution_count": null,
      "outputs": []
    }
  ]
}